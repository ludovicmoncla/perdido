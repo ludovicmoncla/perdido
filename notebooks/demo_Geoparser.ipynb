{
 "cells": [
  {
   "cell_type": "markdown",
   "metadata": {
    "colab_type": "text",
    "id": "YrOKr9pwkxJw"
   },
   "source": [
    "# PERDIDO Geoparser\n",
    "\n",
    "\n",
    "[![Open In Colab](https://colab.research.google.com/assets/colab-badge.svg)](http://colab.research.google.com/github/ludovicmoncla/perdido/blob/main/notebooks/demo_Geoparser.ipynb)\n",
    "\n",
    "\n",
    "\n"
   ]
  },
  {
   "cell_type": "markdown",
   "metadata": {},
   "source": [
    "## Installation"
   ]
  },
  {
   "cell_type": "code",
   "execution_count": null,
   "metadata": {},
   "outputs": [],
   "source": [
    "!pip install --upgrade perdido"
   ]
  },
  {
   "cell_type": "markdown",
   "metadata": {},
   "source": [
    "## Import"
   ]
  },
  {
   "cell_type": "code",
   "execution_count": 1,
   "metadata": {},
   "outputs": [],
   "source": [
    "from perdido.geoparser import Geoparser"
   ]
  },
  {
   "cell_type": "markdown",
   "metadata": {},
   "source": [
    "### Run geoparser"
   ]
  },
  {
   "cell_type": "code",
   "execution_count": 2,
   "metadata": {},
   "outputs": [],
   "source": [
    "geoparser = Geoparser()\n",
    "doc = geoparser('Je visite la ville de Lyon, Annecy et le Mont-Blanc.')"
   ]
  },
  {
   "cell_type": "markdown",
   "metadata": {},
   "source": [
    "### Get tokens"
   ]
  },
  {
   "cell_type": "code",
   "execution_count": 3,
   "metadata": {},
   "outputs": [
    {
     "name": "stdout",
     "output_type": "stream",
     "text": [
      "Je je PRO\n",
      "visite visiter V\n",
      "la le DET\n",
      "ville ville N\n",
      "de de PREP\n",
      "Lyon lyon NPr\n",
      ",  PUN\n",
      "Annecy annecy NPr\n",
      "et et CONJC\n",
      "le le DET\n",
      "Mont-Blanc mont-blanc NPr\n",
      ".  SEN\n"
     ]
    }
   ],
   "source": [
    "for token in doc:\n",
    "    print(\"{0} {1} {2}\".format(token.text, token.lemma, token.pos))"
   ]
  },
  {
   "cell_type": "markdown",
   "metadata": {},
   "source": [
    "### Get the XML-TEI output"
   ]
  },
  {
   "cell_type": "code",
   "execution_count": 4,
   "metadata": {},
   "outputs": [
    {
     "data": {
      "text/plain": [
       "'<TEI><teiheader></teiheader><text><body><s><w lemma=\"je\" type=\"PRO\" subtype=\"PpvIL\" id=\"w0\">Je</w><phr type=\"motion\"><motionmedian><w lemma=\"visiter\" type=\"V\" id=\"w1\">visite</w></motionmedian><rs type=\"ene\" id=\"en.0\"><rs type=\"place\" subtype=\"ene\" id=\"en.1\" start=\"10\" end=\"12\" startT=\"2\" endT=\"6\"><term type=\"place\" start=\"10\" end=\"12\" startT=\"2\" endT=\"4\"><w lemma=\"le\" type=\"DET\" subtype=\"ART\" id=\"w2\">la</w><w lemma=\"ville\" type=\"N\" id=\"w3\">ville</w></term><w lemma=\"de\" type=\"PREP\" id=\"w4\">de</w><rs type=\"unknown\" subtype=\"no\" id=\"en.2\" start=\"22\" end=\"26\" startT=\"5\" endT=\"6\"><name type=\"unknown\" id=\"en.3\"><w lemma=\"lyon\" type=\"NPr\" id=\"w5\">Lyon</w></name></rs><location><geo source=\"osm\" rend=\"Mus&#233;es Gadagne, Rue de la Fronde, Vieux Lyon, Lyon 5e Arrondissement, Lyon, M&#233;tropole de Lyon, Circonscription d&#233;partementale du Rh&#244;ne, Auvergne-Rh&#244;ne-Alpes, France m&#233;tropolitaine, 69005, France\">4.827286 45.76405</geo></location></rs></rs><w type=\"PUN\" lemma=\"\" id=\"w6\">,</w><rs type=\"place\" subtype=\"no\" id=\"en.4\" start=\"29\" end=\"35\" startT=\"7\" endT=\"8\"><name type=\"place\" id=\"en.5\"><w lemma=\"annecy\" type=\"NPr\" id=\"w7\">Annecy</w><location><geo source=\"osm\" rend=\"Annecy, Haute-Savoie, Auvergne-Rh&#244;ne-Alpes, France m&#233;tropolitaine, France\">6.128885 45.899235</geo></location></name></rs><w lemma=\"et\" type=\"CONJC\" id=\"w8\">et</w><rs type=\"place\" subtype=\"no\" id=\"en.6\" start=\"39\" end=\"41\" startT=\"9\" endT=\"11\"><w lemma=\"le\" type=\"DET\" subtype=\"ART\" id=\"w9\">le</w><name type=\"place\" id=\"en.7\"><w lemma=\"mont-blanc\" type=\"NPr\" id=\"w10\">Mont-Blanc</w><location><geo source=\"osm\" rend=\"Mont Blanc - Monte Bianco, Chamonix-Mont-Blanc, Bonneville, Haute-Savoie, Auvergne-Rh&#244;ne-Alpes, France m&#233;tropolitaine, 74400, France\">6.865171 45.832706</geo></location></name></rs></phr><w type=\"SEN\" lemma=\"\" id=\"w11\">.</w></s></body></text></TEI>\\n'"
      ]
     },
     "execution_count": 4,
     "metadata": {},
     "output_type": "execute_result"
    }
   ],
   "source": [
    "doc.tei"
   ]
  },
  {
   "cell_type": "markdown",
   "metadata": {},
   "source": [
    "### Get the GeoJSON output"
   ]
  },
  {
   "cell_type": "code",
   "execution_count": 5,
   "metadata": {},
   "outputs": [
    {
     "data": {
      "text/plain": [
       "{'type': 'FeatureCollection',\n",
       " 'features': [{'type': 'Feature',\n",
       "   'geometry': {'type': 'Point', 'coordinates': [4.827286, 45.76405]},\n",
       "   'properties': {'id': 'en.1',\n",
       "    'name': 'ville de Lyon',\n",
       "    'sourceName': 'Musées Gadagne, Rue de la Fronde, Vieux Lyon, Lyon 5e Arrondissement, Lyon, Métropole de Lyon, Circonscription départementale du Rhône, Auvergne-Rhône-Alpes, France métropolitaine, 69005, France',\n",
       "    'type': '',\n",
       "    'country': 'France',\n",
       "    'source': 'osm'}},\n",
       "  {'type': 'Feature',\n",
       "   'geometry': {'type': 'Point', 'coordinates': [6.128885, 45.899235]},\n",
       "   'properties': {'id': 'en.5',\n",
       "    'name': 'Annecy',\n",
       "    'sourceName': 'Annecy, Haute-Savoie, Auvergne-Rhône-Alpes, France métropolitaine, France',\n",
       "    'type': '',\n",
       "    'country': 'France',\n",
       "    'source': 'osm'}},\n",
       "  {'type': 'Feature',\n",
       "   'geometry': {'type': 'Point', 'coordinates': [6.865171, 45.832706]},\n",
       "   'properties': {'id': 'en.7',\n",
       "    'name': 'Mont-Blanc',\n",
       "    'sourceName': 'Mont Blanc - Monte Bianco, Chamonix-Mont-Blanc, Bonneville, Haute-Savoie, Auvergne-Rhône-Alpes, France métropolitaine, 74400, France',\n",
       "    'type': '',\n",
       "    'country': 'France',\n",
       "    'source': 'osm'}}]}"
      ]
     },
     "execution_count": 5,
     "metadata": {},
     "output_type": "execute_result"
    }
   ],
   "source": [
    "doc.geojson"
   ]
  },
  {
   "cell_type": "markdown",
   "metadata": {},
   "source": [
    "### Get the list of named entities"
   ]
  },
  {
   "cell_type": "code",
   "execution_count": 6,
   "metadata": {},
   "outputs": [
    {
     "name": "stdout",
     "output_type": "stream",
     "text": [
      "Lyon --> unknown\n",
      "Annecy --> place\n",
      "6.128885 45.899235 - osm\n",
      "Mont-Blanc --> place\n",
      "6.865171 45.832706 - osm\n"
     ]
    }
   ],
   "source": [
    "for entity in doc.ne:\n",
    "    print(\"{0} --> {1}\".format(entity.text, entity.tag))\n",
    "    if entity.tag == 'place':\n",
    "        for t in entity.toponyms:\n",
    "            print(\"{0} {1} - {2}\".format(t.lat, t.lng, t.source))"
   ]
  },
  {
   "cell_type": "markdown",
   "metadata": {},
   "source": [
    "### Get the list of nested named entities"
   ]
  },
  {
   "cell_type": "code",
   "execution_count": 7,
   "metadata": {},
   "outputs": [
    {
     "name": "stdout",
     "output_type": "stream",
     "text": [
      "la ville de Lyon --> place\n",
      "4.827286 45.76405 - osm\n"
     ]
    }
   ],
   "source": [
    "for nestedEntity in doc.nne:\n",
    "    print(\"{0} --> {1}\".format(nestedEntity.text, nestedEntity.tag))\n",
    "    if nestedEntity.tag == 'place':\n",
    "        for t in nestedEntity.toponyms:\n",
    "            print(\"{0} {1} - {2}\".format(t.lat, t.lng, t.source))"
   ]
  },
  {
   "cell_type": "markdown",
   "metadata": {},
   "source": [
    "### Display a map (using folium library)\n",
    "\n",
    "\n",
    "[https://python-visualization.github.io/folium/](https://python-visualization.github.io/folium/)"
   ]
  },
  {
   "cell_type": "code",
   "execution_count": 8,
   "metadata": {},
   "outputs": [
    {
     "data": {
      "text/html": [
       "<div style=\"width:100%;\"><div style=\"position:relative;width:100%;height:0;padding-bottom:60%;\"><span style=\"color:#565656\">Make this Notebook Trusted to load map: File -> Trust Notebook</span><iframe srcdoc=\"&lt;!DOCTYPE html&gt;\n",
       "&lt;head&gt;    \n",
       "    &lt;meta http-equiv=&quot;content-type&quot; content=&quot;text/html; charset=UTF-8&quot; /&gt;\n",
       "    \n",
       "        &lt;script&gt;\n",
       "            L_NO_TOUCH = false;\n",
       "            L_DISABLE_3D = false;\n",
       "        &lt;/script&gt;\n",
       "    \n",
       "    &lt;style&gt;html, body {width: 100%;height: 100%;margin: 0;padding: 0;}&lt;/style&gt;\n",
       "    &lt;style&gt;#map {position:absolute;top:0;bottom:0;right:0;left:0;}&lt;/style&gt;\n",
       "    &lt;script src=&quot;https://cdn.jsdelivr.net/npm/leaflet@1.6.0/dist/leaflet.js&quot;&gt;&lt;/script&gt;\n",
       "    &lt;script src=&quot;https://code.jquery.com/jquery-1.12.4.min.js&quot;&gt;&lt;/script&gt;\n",
       "    &lt;script src=&quot;https://maxcdn.bootstrapcdn.com/bootstrap/3.2.0/js/bootstrap.min.js&quot;&gt;&lt;/script&gt;\n",
       "    &lt;script src=&quot;https://cdnjs.cloudflare.com/ajax/libs/Leaflet.awesome-markers/2.0.2/leaflet.awesome-markers.js&quot;&gt;&lt;/script&gt;\n",
       "    &lt;link rel=&quot;stylesheet&quot; href=&quot;https://cdn.jsdelivr.net/npm/leaflet@1.6.0/dist/leaflet.css&quot;/&gt;\n",
       "    &lt;link rel=&quot;stylesheet&quot; href=&quot;https://maxcdn.bootstrapcdn.com/bootstrap/3.2.0/css/bootstrap.min.css&quot;/&gt;\n",
       "    &lt;link rel=&quot;stylesheet&quot; href=&quot;https://maxcdn.bootstrapcdn.com/bootstrap/3.2.0/css/bootstrap-theme.min.css&quot;/&gt;\n",
       "    &lt;link rel=&quot;stylesheet&quot; href=&quot;https://maxcdn.bootstrapcdn.com/font-awesome/4.6.3/css/font-awesome.min.css&quot;/&gt;\n",
       "    &lt;link rel=&quot;stylesheet&quot; href=&quot;https://cdnjs.cloudflare.com/ajax/libs/Leaflet.awesome-markers/2.0.2/leaflet.awesome-markers.css&quot;/&gt;\n",
       "    &lt;link rel=&quot;stylesheet&quot; href=&quot;https://cdn.jsdelivr.net/gh/python-visualization/folium/folium/templates/leaflet.awesome.rotate.min.css&quot;/&gt;\n",
       "    \n",
       "            &lt;meta name=&quot;viewport&quot; content=&quot;width=device-width,\n",
       "                initial-scale=1.0, maximum-scale=1.0, user-scalable=no&quot; /&gt;\n",
       "            &lt;style&gt;\n",
       "                #map_12349ce446967418b0173607e1d22454 {\n",
       "                    position: relative;\n",
       "                    width: 100.0%;\n",
       "                    height: 100.0%;\n",
       "                    left: 0.0%;\n",
       "                    top: 0.0%;\n",
       "                }\n",
       "            &lt;/style&gt;\n",
       "        \n",
       "&lt;/head&gt;\n",
       "&lt;body&gt;    \n",
       "    \n",
       "            &lt;div class=&quot;folium-map&quot; id=&quot;map_12349ce446967418b0173607e1d22454&quot; &gt;&lt;/div&gt;\n",
       "        \n",
       "&lt;/body&gt;\n",
       "&lt;script&gt;    \n",
       "    \n",
       "            var map_12349ce446967418b0173607e1d22454 = L.map(\n",
       "                &quot;map_12349ce446967418b0173607e1d22454&quot;,\n",
       "                {\n",
       "                    center: [0, 0],\n",
       "                    crs: L.CRS.EPSG3857,\n",
       "                    zoom: 1,\n",
       "                    zoomControl: true,\n",
       "                    preferCanvas: false,\n",
       "                }\n",
       "            );\n",
       "\n",
       "            \n",
       "\n",
       "        \n",
       "    \n",
       "            var tile_layer_a073d406197892c629db4b0a7fd557f4 = L.tileLayer(\n",
       "                &quot;https://{s}.tile.openstreetmap.org/{z}/{x}/{y}.png&quot;,\n",
       "                {&quot;attribution&quot;: &quot;Data by \\u0026copy; \\u003ca href=\\&quot;http://openstreetmap.org\\&quot;\\u003eOpenStreetMap\\u003c/a\\u003e, under \\u003ca href=\\&quot;http://www.openstreetmap.org/copyright\\&quot;\\u003eODbL\\u003c/a\\u003e.&quot;, &quot;detectRetina&quot;: false, &quot;maxNativeZoom&quot;: 18, &quot;maxZoom&quot;: 18, &quot;minZoom&quot;: 0, &quot;noWrap&quot;: false, &quot;opacity&quot;: 1, &quot;subdomains&quot;: &quot;abc&quot;, &quot;tms&quot;: false}\n",
       "            ).addTo(map_12349ce446967418b0173607e1d22454);\n",
       "        \n",
       "    \n",
       "            map_12349ce446967418b0173607e1d22454.fitBounds(\n",
       "                [[45.76405, 4.827286], [45.899235, 6.865171]],\n",
       "                {}\n",
       "            );\n",
       "        \n",
       "    \n",
       "\n",
       "        function geo_json_0b008a6b77205e39151cea25f0089476_onEachFeature(feature, layer) {\n",
       "            layer.on({\n",
       "            });\n",
       "        };\n",
       "        var geo_json_0b008a6b77205e39151cea25f0089476 = L.geoJson(null, {\n",
       "                onEachFeature: geo_json_0b008a6b77205e39151cea25f0089476_onEachFeature,\n",
       "            \n",
       "        });\n",
       "\n",
       "        function geo_json_0b008a6b77205e39151cea25f0089476_add (data) {\n",
       "            geo_json_0b008a6b77205e39151cea25f0089476\n",
       "                .addData(data)\n",
       "                .addTo(map_12349ce446967418b0173607e1d22454);\n",
       "        }\n",
       "            geo_json_0b008a6b77205e39151cea25f0089476_add({&quot;features&quot;: [{&quot;geometry&quot;: {&quot;coordinates&quot;: [4.827286, 45.76405], &quot;type&quot;: &quot;Point&quot;}, &quot;properties&quot;: {&quot;country&quot;: &quot;France&quot;, &quot;id&quot;: &quot;en.1&quot;, &quot;name&quot;: &quot;ville de Lyon&quot;, &quot;source&quot;: &quot;osm&quot;, &quot;sourceName&quot;: &quot;Mus\\u00e9es Gadagne, Rue de la Fronde, Vieux Lyon, Lyon 5e Arrondissement, Lyon, M\\u00e9tropole de Lyon, Circonscription d\\u00e9partementale du Rh\\u00f4ne, Auvergne-Rh\\u00f4ne-Alpes, France m\\u00e9tropolitaine, 69005, France&quot;, &quot;type&quot;: &quot;&quot;}, &quot;type&quot;: &quot;Feature&quot;}, {&quot;geometry&quot;: {&quot;coordinates&quot;: [6.128885, 45.899235], &quot;type&quot;: &quot;Point&quot;}, &quot;properties&quot;: {&quot;country&quot;: &quot;France&quot;, &quot;id&quot;: &quot;en.5&quot;, &quot;name&quot;: &quot;Annecy&quot;, &quot;source&quot;: &quot;osm&quot;, &quot;sourceName&quot;: &quot;Annecy, Haute-Savoie, Auvergne-Rh\\u00f4ne-Alpes, France m\\u00e9tropolitaine, France&quot;, &quot;type&quot;: &quot;&quot;}, &quot;type&quot;: &quot;Feature&quot;}, {&quot;geometry&quot;: {&quot;coordinates&quot;: [6.865171, 45.832706], &quot;type&quot;: &quot;Point&quot;}, &quot;properties&quot;: {&quot;country&quot;: &quot;France&quot;, &quot;id&quot;: &quot;en.7&quot;, &quot;name&quot;: &quot;Mont-Blanc&quot;, &quot;source&quot;: &quot;osm&quot;, &quot;sourceName&quot;: &quot;Mont Blanc - Monte Bianco, Chamonix-Mont-Blanc, Bonneville, Haute-Savoie, Auvergne-Rh\\u00f4ne-Alpes, France m\\u00e9tropolitaine, 74400, France&quot;, &quot;type&quot;: &quot;&quot;}, &quot;type&quot;: &quot;Feature&quot;}], &quot;type&quot;: &quot;FeatureCollection&quot;});\n",
       "\n",
       "        \n",
       "&lt;/script&gt;\" style=\"position:absolute;width:100%;height:100%;left:0;top:0;border:none !important;\" allowfullscreen webkitallowfullscreen mozallowfullscreen></iframe></div></div>"
      ],
      "text/plain": [
       "<folium.folium.Map at 0x7fd9414e8c50>"
      ]
     },
     "execution_count": 8,
     "metadata": {},
     "output_type": "execute_result"
    }
   ],
   "source": [
    "m = doc.get_folium_map()\n",
    "m"
   ]
  },
  {
   "cell_type": "code",
   "execution_count": null,
   "metadata": {},
   "outputs": [],
   "source": []
  }
 ],
 "metadata": {
  "colab": {
   "collapsed_sections": [],
   "name": "Geoparsing.ipynb",
   "provenance": [],
   "toc_visible": true
  },
  "interpreter": {
   "hash": "d27810f7b4a7ea017eb4ebcbcc6a0ac17e3e3e8960de64bacc7cc202be6377cb"
  },
  "kernelspec": {
   "display_name": "Python 3.7.3 ('venv': venv)",
   "language": "python",
   "name": "python3"
  },
  "language_info": {
   "codemirror_mode": {
    "name": "ipython",
    "version": 3
   },
   "file_extension": ".py",
   "mimetype": "text/x-python",
   "name": "python",
   "nbconvert_exporter": "python",
   "pygments_lexer": "ipython3",
   "version": "3.7.3"
  }
 },
 "nbformat": 4,
 "nbformat_minor": 2
}
