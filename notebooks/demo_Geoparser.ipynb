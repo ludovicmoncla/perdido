{
 "cells": [
  {
   "cell_type": "markdown",
   "metadata": {
    "colab_type": "text",
    "id": "YrOKr9pwkxJw"
   },
   "source": [
    "# PERDIDO Geoparser\n",
    "\n",
    "\n",
    "[![Open In Colab](https://colab.research.google.com/assets/colab-badge.svg)](http://colab.research.google.com/github/ludovicmoncla/perdido/blob/main/notebooks/demo_Geoparser.ipynb)\n",
    "\n",
    "\n",
    "\n"
   ]
  },
  {
   "cell_type": "markdown",
   "metadata": {},
   "source": [
    "## Installation"
   ]
  },
  {
   "cell_type": "code",
   "execution_count": null,
   "metadata": {},
   "outputs": [],
   "source": [
    "!pip install --upgrade perdido"
   ]
  },
  {
   "cell_type": "markdown",
   "metadata": {},
   "source": [
    "## Import"
   ]
  },
  {
   "cell_type": "code",
   "execution_count": null,
   "metadata": {},
   "outputs": [],
   "source": [
    "from perdido.geoparser import Geoparser"
   ]
  },
  {
   "cell_type": "markdown",
   "metadata": {},
   "source": [
    "## Quick start"
   ]
  },
  {
   "cell_type": "markdown",
   "metadata": {},
   "source": [
    "### Run geoparser"
   ]
  },
  {
   "cell_type": "code",
   "execution_count": null,
   "metadata": {},
   "outputs": [],
   "source": [
    "geoparser = Geoparser(lang='fr')\n",
    "doc = geoparser('Je visite la ville de Lyon, Annecy et Chamonix.')"
   ]
  },
  {
   "cell_type": "markdown",
   "metadata": {},
   "source": [
    "### Get tokens"
   ]
  },
  {
   "cell_type": "code",
   "execution_count": null,
   "metadata": {},
   "outputs": [],
   "source": [
    "for token in doc:\n",
    "    print(f'token: {token.text}\\tlemma: {token.lemma}\\tpos: {token.pos}')"
   ]
  },
  {
   "cell_type": "markdown",
   "metadata": {},
   "source": [
    "### Get the XML-TEI output"
   ]
  },
  {
   "cell_type": "code",
   "execution_count": null,
   "metadata": {},
   "outputs": [],
   "source": [
    "doc.tei"
   ]
  },
  {
   "cell_type": "markdown",
   "metadata": {},
   "source": [
    "### Get the GeoJSON output"
   ]
  },
  {
   "cell_type": "code",
   "execution_count": null,
   "metadata": {},
   "outputs": [],
   "source": [
    "doc.geojson"
   ]
  },
  {
   "cell_type": "markdown",
   "metadata": {},
   "source": [
    "### Get the list of named entities"
   ]
  },
  {
   "cell_type": "code",
   "execution_count": null,
   "metadata": {},
   "outputs": [],
   "source": [
    "for entity in doc.ne:\n",
    "    print(f'entity: {entity.text}\\ttag: {entity.tag}')\n",
    "    if entity.tag == 'place':\n",
    "        for t in entity.toponyms:\n",
    "            print(f' latitude: {t.lat}\\tlongitude: {t.lng}\\tsource: {t.source}')"
   ]
  },
  {
   "cell_type": "markdown",
   "metadata": {},
   "source": [
    "### Get the list of nested named entities"
   ]
  },
  {
   "cell_type": "code",
   "execution_count": null,
   "metadata": {},
   "outputs": [],
   "source": [
    "for nestedEntity in doc.nne:\n",
    "    print(f'entity: {nestedEntity.text}\\ttag: {nestedEntity.tag}')\n",
    "    if nestedEntity.tag == 'place':\n",
    "        for t in nestedEntity.toponyms:\n",
    "            print(f' latitude: {t.lat}\\tlongitude: {t.lng}\\tsource: {t.source}')"
   ]
  },
  {
   "cell_type": "markdown",
   "metadata": {},
   "source": [
    "### Display tagged entities"
   ]
  },
  {
   "cell_type": "code",
   "execution_count": null,
   "metadata": {},
   "outputs": [],
   "source": [
    "from spacy import displacy"
   ]
  },
  {
   "cell_type": "code",
   "execution_count": null,
   "metadata": {},
   "outputs": [],
   "source": [
    "displacy.render(doc.to_spacy_doc(), style=\"ent\", jupyter=True) \n"
   ]
  },
  {
   "cell_type": "code",
   "execution_count": null,
   "metadata": {},
   "outputs": [],
   "source": [
    "displacy.render(doc.to_spacy_doc(), style=\"span\", jupyter=True)"
   ]
  },
  {
   "cell_type": "markdown",
   "metadata": {},
   "source": [
    "### Display a map (using folium library)\n",
    "\n",
    "\n",
    "[https://python-visualization.github.io/folium/](https://python-visualization.github.io/folium/)"
   ]
  },
  {
   "cell_type": "code",
   "execution_count": null,
   "metadata": {},
   "outputs": [],
   "source": [
    "m = doc.get_folium_map()\n",
    "m"
   ]
  },
  {
   "cell_type": "markdown",
   "metadata": {},
   "source": [
    "## Going deeper\n",
    "\n",
    "### Geocoding settings\n",
    "\n",
    "#### Choosing gazetteers"
   ]
  },
  {
   "cell_type": "code",
   "execution_count": null,
   "metadata": {},
   "outputs": [],
   "source": [
    "sources = ['nominatim', 'geonames'] # possible values: 'nominatim' (default), 'geonames', 'ign', 'wiki_gaz'\n",
    "\n",
    "geoparser = Geoparser(lang = 'fr', sources = sources)\n",
    "doc = geoparser('Je visite la ville de Lyon, Annecy et Chamonix.')"
   ]
  },
  {
   "cell_type": "code",
   "execution_count": null,
   "metadata": {},
   "outputs": [],
   "source": [
    "for entity in doc.ne:\n",
    "    print(f'entity: {entity.text}\\ttag: {entity.tag}')\n",
    "    if entity.tag == 'place':\n",
    "        for t in entity.toponyms:\n",
    "            print(f' latitude: {t.lat}\\tlongitude: {t.lng}\\tsource: {t.source}')"
   ]
  },
  {
   "cell_type": "code",
   "execution_count": null,
   "metadata": {},
   "outputs": [],
   "source": [
    "doc.get_folium_map()"
   ]
  },
  {
   "cell_type": "markdown",
   "metadata": {},
   "source": [
    "#### Choosing the maximum number of matches from gazetteer"
   ]
  },
  {
   "cell_type": "code",
   "execution_count": null,
   "metadata": {},
   "outputs": [],
   "source": [
    "\n",
    "geoparser = Geoparser(max_rows = 3, sources = sources)\n",
    "doc = geoparser('Je visite la ville de Lyon, Annecy et Chamonix.')\n"
   ]
  },
  {
   "cell_type": "code",
   "execution_count": null,
   "metadata": {},
   "outputs": [],
   "source": [
    "for entity in doc.ne:\n",
    "    print(f'entity: {entity.text}\\ttag: {entity.tag}')\n",
    "    if entity.tag == 'place':\n",
    "        for t in entity.toponyms:\n",
    "            print(f' latitude: {t.lat}\\tlongitude: {t.lng}\\tsource: {t.source}')"
   ]
  },
  {
   "cell_type": "code",
   "execution_count": null,
   "metadata": {},
   "outputs": [],
   "source": [
    "doc.get_folium_map()"
   ]
  },
  {
   "cell_type": "markdown",
   "metadata": {},
   "source": [
    "#### Setting a country code to limit search results to a specific country"
   ]
  },
  {
   "cell_type": "code",
   "execution_count": null,
   "metadata": {},
   "outputs": [],
   "source": [
    "geoparser = Geoparser(max_rows = 3, sources = sources, country_code = 'fr')\n",
    "doc = geoparser('Je visite la ville de Lyon, Annecy et Chamonix.')"
   ]
  },
  {
   "cell_type": "code",
   "execution_count": null,
   "metadata": {},
   "outputs": [],
   "source": [
    "for entity in doc.ne:\n",
    "    print(f'entity: {entity.text}\\ttag: {entity.tag}')\n",
    "    if entity.tag == 'place':\n",
    "        for t in entity.toponyms:\n",
    "            print(f' latitude: {t.lat}\\tlongitude: {t.lng}\\tsource: {t.source}')"
   ]
  },
  {
   "cell_type": "code",
   "execution_count": null,
   "metadata": {},
   "outputs": [],
   "source": [
    "doc.get_folium_map()"
   ]
  },
  {
   "cell_type": "markdown",
   "metadata": {},
   "source": [
    "#### Defining a bounding box to limit the search results to a specific area"
   ]
  },
  {
   "cell_type": "code",
   "execution_count": null,
   "metadata": {},
   "outputs": [],
   "source": [
    "bbox = [-5.225, 41.333, 9.55, 51.2]  # France | format: [west, south, east, north]\n",
    "geoparser = Geoparser(max_rows = 3, sources = sources, bbox = bbox)\n",
    "doc = geoparser('Je visite la ville de Lyon, Annecy et Chamonix.')\n"
   ]
  },
  {
   "cell_type": "code",
   "execution_count": null,
   "metadata": {},
   "outputs": [],
   "source": [
    "for entity in doc.ne:\n",
    "    print(f'entity: {entity.text}\\ttag: {entity.tag}')\n",
    "    if entity.tag == 'place':\n",
    "        for t in entity.toponyms:\n",
    "            print(f' latitude: {t.lat}\\tlongitude: {t.lng}\\tsource: {t.source}')"
   ]
  },
  {
   "cell_type": "code",
   "execution_count": null,
   "metadata": {},
   "outputs": [],
   "source": [
    "doc.get_folium_map()"
   ]
  },
  {
   "cell_type": "markdown",
   "metadata": {},
   "source": [
    "### Geotagging settings\n",
    "\n",
    "#### Geoparsing encyclopedia articles\n",
    "\n",
    "[https://geode-project.github.io](https://geode-project.github.io)"
   ]
  },
  {
   "cell_type": "code",
   "execution_count": null,
   "metadata": {},
   "outputs": [],
   "source": [
    "content = \"Grenoble, Gratianopolis, ville de France, capitale du Dauphiné, avec un évêché suffragant de Vienne, et un parlement érigé en 1493 par Louis XI. qui n'étoit encore que dauphin ; mais son pere ratifia cette érection deux ans après.\"\n",
    "#content = \"Grenoble, ancienne ville de France\" -> bug ?\n",
    "content += \"Grenoble est sur l'Isere, à onze lieues S O. de Chambéri, quarante-deux N. O. de Turin, seize S. E. de Vienne, cent vingt-quatre S. O. de Paris. Long. suivant Harris, 23d. 31'. 15\\\". suivant Cassini, 23d. 14'. 15\\\". latit 45d. 11'.\"\n",
    "\n",
    "geoparser = Geoparser(version = 'Encyclopedie')\n",
    "doc = geoparser(content)\n"
   ]
  },
  {
   "cell_type": "code",
   "execution_count": null,
   "metadata": {},
   "outputs": [],
   "source": []
  },
  {
   "cell_type": "code",
   "execution_count": null,
   "metadata": {},
   "outputs": [],
   "source": []
  },
  {
   "cell_type": "markdown",
   "metadata": {},
   "source": []
  }
 ],
 "metadata": {
  "colab": {
   "collapsed_sections": [],
   "name": "Geoparsing.ipynb",
   "provenance": [],
   "toc_visible": true
  },
  "kernelspec": {
   "display_name": "Python 3.9.13 ('perdido-lib-py39')",
   "language": "python",
   "name": "python3"
  },
  "language_info": {
   "codemirror_mode": {
    "name": "ipython",
    "version": 3
   },
   "file_extension": ".py",
   "mimetype": "text/x-python",
   "name": "python",
   "nbconvert_exporter": "python",
   "pygments_lexer": "ipython3",
   "version": "3.9.13"
  },
  "vscode": {
   "interpreter": {
    "hash": "4b1f34ceefe072231757807b38f3dcb607cd6c26e84016d64dd06060d820545d"
   }
  }
 },
 "nbformat": 4,
 "nbformat_minor": 2
}
