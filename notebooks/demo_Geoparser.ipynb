{
 "cells": [
  {
   "cell_type": "markdown",
   "metadata": {
    "colab_type": "text",
    "id": "YrOKr9pwkxJw"
   },
   "source": [
    "# PERDIDO Geoparser\n",
    "\n",
    "\n",
    "[![Open In Colab](https://colab.research.google.com/assets/colab-badge.svg)](http://colab.research.google.com/github/ludovicmoncla/perdido/blob/main/notebooks/demo_Geoparser.ipynb)\n",
    "\n",
    "\n",
    "\n"
   ]
  },
  {
   "cell_type": "code",
   "execution_count": 8,
   "metadata": {},
   "outputs": [
    {
     "name": "stdout",
     "output_type": "stream",
     "text": [
      "Looking in indexes: https://test.pypi.org/simple/\n",
      "Collecting perdido==0.0.3\n",
      "  Downloading https://test-files.pythonhosted.org/packages/5c/7e/5c5d7556c6c99ab0bba9acf79da15d6d728928cbd501e2a119e2e7f108c8/perdido-0.0.3-py3-none-any.whl (3.7 kB)\n",
      "Requirement already satisfied: lxml in /Users/lmoncla/opt/anaconda3/envs/perdido_env/lib/python3.7/site-packages (from perdido==0.0.3) (4.8.0)\n",
      "Requirement already satisfied: folium in /Users/lmoncla/opt/anaconda3/envs/perdido_env/lib/python3.7/site-packages (from perdido==0.0.3) (0.12.1.post1)\n",
      "Requirement already satisfied: request in /Users/lmoncla/opt/anaconda3/envs/perdido_env/lib/python3.7/site-packages (from perdido==0.0.3) (0.0.26)\n",
      "Requirement already satisfied: numpy in /Users/lmoncla/opt/anaconda3/envs/perdido_env/lib/python3.7/site-packages (from folium->perdido==0.0.3) (1.20.3)\n",
      "Requirement already satisfied: branca>=0.3.0 in /Users/lmoncla/opt/anaconda3/envs/perdido_env/lib/python3.7/site-packages (from folium->perdido==0.0.3) (0.5.0)\n",
      "Requirement already satisfied: jinja2>=2.9 in /Users/lmoncla/opt/anaconda3/envs/perdido_env/lib/python3.7/site-packages (from folium->perdido==0.0.3) (3.1.2)\n",
      "Requirement already satisfied: requests in /Users/lmoncla/opt/anaconda3/envs/perdido_env/lib/python3.7/site-packages (from folium->perdido==0.0.3) (2.27.1)\n",
      "Requirement already satisfied: post in /Users/lmoncla/opt/anaconda3/envs/perdido_env/lib/python3.7/site-packages (from request->perdido==0.0.3) (0.0.26)\n",
      "Requirement already satisfied: get in /Users/lmoncla/opt/anaconda3/envs/perdido_env/lib/python3.7/site-packages (from request->perdido==0.0.3) (0.0.39)\n",
      "Requirement already satisfied: MarkupSafe>=2.0 in /Users/lmoncla/opt/anaconda3/envs/perdido_env/lib/python3.7/site-packages (from jinja2>=2.9->folium->perdido==0.0.3) (2.1.1)\n",
      "Requirement already satisfied: query-string in /Users/lmoncla/opt/anaconda3/envs/perdido_env/lib/python3.7/site-packages (from get->request->perdido==0.0.3) (0.0.28)\n",
      "Requirement already satisfied: idna<4,>=2.5 in /Users/lmoncla/opt/anaconda3/envs/perdido_env/lib/python3.7/site-packages (from requests->folium->perdido==0.0.3) (3.3)\n",
      "Requirement already satisfied: urllib3<1.27,>=1.21.1 in /Users/lmoncla/opt/anaconda3/envs/perdido_env/lib/python3.7/site-packages (from requests->folium->perdido==0.0.3) (1.26.9)\n",
      "Requirement already satisfied: charset-normalizer~=2.0.0 in /Users/lmoncla/opt/anaconda3/envs/perdido_env/lib/python3.7/site-packages (from requests->folium->perdido==0.0.3) (2.0.12)\n",
      "Requirement already satisfied: certifi>=2017.4.17 in /Users/lmoncla/opt/anaconda3/envs/perdido_env/lib/python3.7/site-packages (from requests->folium->perdido==0.0.3) (2021.10.8)\n",
      "Requirement already satisfied: public in /Users/lmoncla/opt/anaconda3/envs/perdido_env/lib/python3.7/site-packages (from query-string->get->request->perdido==0.0.3) (2018.11.13.1)\n",
      "Requirement already satisfied: setuptools in /Users/lmoncla/opt/anaconda3/envs/perdido_env/lib/python3.7/site-packages (from public->query-string->get->request->perdido==0.0.3) (62.3.2)\n",
      "Installing collected packages: perdido\n",
      "  Attempting uninstall: perdido\n",
      "    Found existing installation: perdido 0.0.2\n",
      "    Uninstalling perdido-0.0.2:\n",
      "      Successfully uninstalled perdido-0.0.2\n",
      "Successfully installed perdido-0.0.3\n"
     ]
    }
   ],
   "source": [
    "!pip install -i https://test.pypi.org/simple/ perdido==0.0.3\n",
    "#!pip install perdido"
   ]
  },
  {
   "cell_type": "code",
   "execution_count": 21,
   "metadata": {},
   "outputs": [],
   "source": [
    "from perdido import geoparser"
   ]
  },
  {
   "cell_type": "code",
   "execution_count": 22,
   "metadata": {},
   "outputs": [],
   "source": [
    "p = geoparser.Geoparser()\n",
    "doc = p.parse('Je visite la ville de Pau.')"
   ]
  },
  {
   "cell_type": "code",
   "execution_count": 23,
   "metadata": {},
   "outputs": [
    {
     "data": {
      "text/plain": [
       "'\"<TEI>\\\\n   <teiheader/>\\\\n   <text>\\\\n      <body>\\\\n         <s>\\\\n            <w lemma=\\\\\"je\\\\\" type=\\\\\"PRO\\\\\" subtype=\\\\\"PpvIL\\\\\" id=\\\\\"w0\\\\\">Je</w>\\\\n            <phr type=\\\\\"motion\\\\\">\\\\n               <motionmedian>\\\\n                  <w lemma=\\\\\"visiter\\\\\" type=\\\\\"V\\\\\" id=\\\\\"w1\\\\\">visite</w>\\\\n               </motionmedian>\\\\n               <rs type=\\\\\"ene\\\\\" id=\\\\\"en.0\\\\\">\\\\n                  <rs type=\\\\\"place\\\\\" subtype=\\\\\"ene\\\\\" id=\\\\\"en.1\\\\\" start=\\\\\"10\\\\\" end=\\\\\"12\\\\\" startT=\\\\\"2\\\\\" endT=\\\\\"6\\\\\">\\\\n                     <term type=\\\\\"place\\\\\" start=\\\\\"10\\\\\" end=\\\\\"12\\\\\" startT=\\\\\"2\\\\\" endT=\\\\\"4\\\\\">\\\\n                        <w lemma=\\\\\"le\\\\\" type=\\\\\"DET\\\\\" subtype=\\\\\"ART\\\\\" id=\\\\\"w2\\\\\">la</w>\\\\n                        <w lemma=\\\\\"ville\\\\\" type=\\\\\"N\\\\\" id=\\\\\"w3\\\\\">ville</w>\\\\n                     </term>\\\\n                     <w lemma=\\\\\"de\\\\\" type=\\\\\"PREP\\\\\" id=\\\\\"w4\\\\\">de</w>\\\\n                     <rs type=\\\\\"unknown\\\\\" subtype=\\\\\"no\\\\\" id=\\\\\"en.2\\\\\" start=\\\\\"22\\\\\" end=\\\\\"25\\\\\" startT=\\\\\"5\\\\\" endT=\\\\\"6\\\\\">\\\\n                        <name type=\\\\\"unknown\\\\\" id=\\\\\"en.3\\\\\">\\\\n                           <w lemma=\\\\\"pau\\\\\" type=\\\\\"NPr\\\\\" id=\\\\\"w5\\\\\">Pau</w>\\\\n                        </name>\\\\n                     </rs>\\\\n                     <location>\\\\n                        <geo source=\\\\\"osm\\\\\" rend=\\\\\"Promenade, Pau, 64000, France\\\\\">-0.369754 43.29147</geo>\\\\n                     </location>\\\\n                  </rs>\\\\n               </rs>\\\\n            </phr>\\\\n            <w type=\\\\\"SEN\\\\\" lemma=\\\\\"\\\\\" id=\\\\\"w6\\\\\">.</w>\\\\n         </s>\\\\n      </body>\\\\n   </text>\\\\n</TEI>\"'"
      ]
     },
     "execution_count": 23,
     "metadata": {},
     "output_type": "execute_result"
    }
   ],
   "source": [
    "doc._tei\n",
    "\n"
   ]
  },
  {
   "cell_type": "code",
   "execution_count": 24,
   "metadata": {},
   "outputs": [
    {
     "data": {
      "text/plain": [
       "'{\"type\": \"FeatureCollection\", \"features\": \"{\\\\\"type\\\\\": \\\\\"FeatureCollection\\\\\", \\\\\"features\\\\\": [{\\\\\"type\\\\\": \\\\\"Feature\\\\\", \\\\\"geometry\\\\\": {\\\\\"type\\\\\": \\\\\"Point\\\\\", \\\\\"coordinates\\\\\": [-0.369754, 43.29147]}, \\\\\"properties\\\\\": {\\\\\"id\\\\\": \\\\\"en.1\\\\\", \\\\\"name\\\\\": \\\\\"ville de Pau\\\\\", \\\\\"sourceName\\\\\": \\\\\"Promenade, Pau, 64000, France\\\\\", \\\\\"type\\\\\": \\\\\"\\\\\", \\\\\"country\\\\\": \\\\\"France\\\\\", \\\\\"source\\\\\": \\\\\"osm\\\\\"}}]}\"}'"
      ]
     },
     "execution_count": 24,
     "metadata": {},
     "output_type": "execute_result"
    }
   ],
   "source": [
    "doc._geojson"
   ]
  },
  {
   "cell_type": "code",
   "execution_count": null,
   "metadata": {},
   "outputs": [],
   "source": []
  }
 ],
 "metadata": {
  "colab": {
   "collapsed_sections": [],
   "name": "Geoparsing.ipynb",
   "provenance": [],
   "toc_visible": true
  },
  "interpreter": {
   "hash": "69d6bf350ee023591cf6e030043b9b62321894f4683f6c6d446c30b820cdc742"
  },
  "kernelspec": {
   "display_name": "Python 3.7.3 ('perdido_env')",
   "language": "python",
   "name": "python3"
  },
  "language_info": {
   "codemirror_mode": {
    "name": "ipython",
    "version": 3
   },
   "file_extension": ".py",
   "mimetype": "text/x-python",
   "name": "python",
   "nbconvert_exporter": "python",
   "pygments_lexer": "ipython3",
   "version": "3.7.3"
  }
 },
 "nbformat": 4,
 "nbformat_minor": 2
}
