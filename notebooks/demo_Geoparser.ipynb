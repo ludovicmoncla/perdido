{
 "cells": [
  {
   "cell_type": "markdown",
   "metadata": {
    "colab_type": "text",
    "id": "YrOKr9pwkxJw"
   },
   "source": [
    "# PERDIDO Geoparser\n",
    "\n",
    "\n",
    "[![Open In Colab](https://colab.research.google.com/assets/colab-badge.svg)](http://colab.research.google.com/github/ludovicmoncla/perdido/blob/main/notebooks/demo_Geoparser.ipynb)\n",
    "\n",
    "\n",
    "\n"
   ]
  },
  {
   "cell_type": "code",
   "execution_count": null,
   "metadata": {},
   "outputs": [],
   "source": [
    "!pip install perdido"
   ]
  },
  {
   "cell_type": "code",
   "execution_count": 1,
   "metadata": {},
   "outputs": [],
   "source": [
    "from perdido import geoparser"
   ]
  },
  {
   "cell_type": "code",
   "execution_count": 2,
   "metadata": {},
   "outputs": [],
   "source": [
    "p = geoparser.Geoparser()\n",
    "doc = p.parse('Je visite la ville de Pau.')"
   ]
  },
  {
   "cell_type": "code",
   "execution_count": 3,
   "metadata": {},
   "outputs": [
    {
     "data": {
      "text/plain": [
       "b'<TEI>\\n   <teiheader/>\\n   <text>\\n      <body>\\n         <s>\\n            <w lemma=\"je\" type=\"PRO\" subtype=\"PpvIL\" id=\"w0\">Je</w>\\n            <phr type=\"motion\">\\n               <motionmedian>\\n                  <w lemma=\"visiter\" type=\"V\" id=\"w1\">visite</w>\\n               </motionmedian>\\n               <rs type=\"ene\" id=\"en.0\">\\n                  <rs type=\"place\" subtype=\"ene\" id=\"en.1\" start=\"10\" end=\"12\" startT=\"2\" endT=\"6\">\\n                     <term type=\"place\" start=\"10\" end=\"12\" startT=\"2\" endT=\"4\">\\n                        <w lemma=\"le\" type=\"DET\" subtype=\"ART\" id=\"w2\">la</w>\\n                        <w lemma=\"ville\" type=\"N\" id=\"w3\">ville</w>\\n                     </term>\\n                     <w lemma=\"de\" type=\"PREP\" id=\"w4\">de</w>\\n                     <rs type=\"unknown\" subtype=\"no\" id=\"en.2\" start=\"22\" end=\"25\" startT=\"5\" endT=\"6\">\\n                        <name type=\"unknown\" id=\"en.3\">\\n                           <w lemma=\"pau\" type=\"NPr\" id=\"w5\">Pau</w>\\n                        </name>\\n                     </rs>\\n                     <location>\\n                        <geo source=\"osm\" rend=\"Promenade, Pau, 64000, France\">-0.369754 43.29147</geo>\\n                     </location>\\n                  </rs>\\n               </rs>\\n            </phr>\\n            <w type=\"SEN\" lemma=\"\" id=\"w6\">.</w>\\n         </s>\\n      </body>\\n   </text>\\n</TEI>\\n'"
      ]
     },
     "execution_count": 3,
     "metadata": {},
     "output_type": "execute_result"
    }
   ],
   "source": [
    "doc.tei\n"
   ]
  },
  {
   "cell_type": "code",
   "execution_count": 4,
   "metadata": {},
   "outputs": [
    {
     "data": {
      "text/plain": [
       "'{\"type\": \"FeatureCollection\", \"features\": \"{\\\\\"type\\\\\": \\\\\"FeatureCollection\\\\\", \\\\\"features\\\\\": [{\\\\\"type\\\\\": \\\\\"Feature\\\\\", \\\\\"geometry\\\\\": {\\\\\"type\\\\\": \\\\\"Point\\\\\", \\\\\"coordinates\\\\\": [-0.369754, 43.29147]}, \\\\\"properties\\\\\": {\\\\\"id\\\\\": \\\\\"en.1\\\\\", \\\\\"name\\\\\": \\\\\"ville de Pau\\\\\", \\\\\"sourceName\\\\\": \\\\\"Promenade, Pau, 64000, France\\\\\", \\\\\"type\\\\\": \\\\\"\\\\\", \\\\\"country\\\\\": \\\\\"France\\\\\", \\\\\"source\\\\\": \\\\\"osm\\\\\"}}]}\"}'"
      ]
     },
     "execution_count": 4,
     "metadata": {},
     "output_type": "execute_result"
    }
   ],
   "source": [
    "doc.geojson"
   ]
  },
  {
   "cell_type": "code",
   "execution_count": 5,
   "metadata": {},
   "outputs": [
    {
     "name": "stdout",
     "output_type": "stream",
     "text": [
      "Je je PRO\n",
      "visite visiter V\n",
      "la le DET\n",
      "ville ville N\n",
      "de de PREP\n",
      "Pau pau NPr\n",
      ".  SEN\n"
     ]
    }
   ],
   "source": [
    "for token in doc.tokens:\n",
    "    print(token.text, token.lemma, token.pos)"
   ]
  },
  {
   "cell_type": "code",
   "execution_count": null,
   "metadata": {},
   "outputs": [],
   "source": []
  }
 ],
 "metadata": {
  "colab": {
   "collapsed_sections": [],
   "name": "Geoparsing.ipynb",
   "provenance": [],
   "toc_visible": true
  },
  "interpreter": {
   "hash": "d27810f7b4a7ea017eb4ebcbcc6a0ac17e3e3e8960de64bacc7cc202be6377cb"
  },
  "kernelspec": {
   "display_name": "Python 3.7.3 ('venv': venv)",
   "language": "python",
   "name": "python3"
  },
  "language_info": {
   "codemirror_mode": {
    "name": "ipython",
    "version": 3
   },
   "file_extension": ".py",
   "mimetype": "text/x-python",
   "name": "python",
   "nbconvert_exporter": "python",
   "pygments_lexer": "ipython3",
   "version": "3.7.3"
  }
 },
 "nbformat": 4,
 "nbformat_minor": 2
}
