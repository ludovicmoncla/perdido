{
 "cells": [
  {
   "cell_type": "markdown",
   "metadata": {
    "colab_type": "text",
    "id": "YrOKr9pwkxJw"
   },
   "source": [
    "# PERDIDO REST API\n",
    "\n",
    "\n",
    "[![Open In Colab](https://colab.research.google.com/assets/colab-badge.svg)](http://colab.research.google.com/github/ludovicmoncla/perdido/blob/main/notebooks/demo_WebServices.ipynb) \n",
    "[![Binder](https://mybinder.org/badge_logo.svg)](https://mybinder.org/v2/gh/ludovicmoncla/perdido/main?labpath=notebooks%2Fdemo_WebServices.ipynb)\n",
    "\n",
    "\n",
    "\n"
   ]
  },
  {
   "cell_type": "markdown",
   "metadata": {},
   "source": [
    "## 1. Import librairies"
   ]
  },
  {
   "cell_type": "code",
   "execution_count": null,
   "metadata": {},
   "outputs": [],
   "source": [
    "import requests"
   ]
  },
  {
   "cell_type": "markdown",
   "metadata": {},
   "source": [
    "## 2. Quick start"
   ]
  },
  {
   "cell_type": "code",
   "execution_count": null,
   "metadata": {},
   "outputs": [],
   "source": [
    "url = 'http://choucas.univ-pau.fr/PERDIDO/api/'"
   ]
  },
  {
   "cell_type": "markdown",
   "metadata": {},
   "source": [
    "### 2.1 Geoparsing service"
   ]
  },
  {
   "cell_type": "code",
   "execution_count": null,
   "metadata": {},
   "outputs": [],
   "source": [
    "service = 'geoparsing'\n",
    "parameters = {'api_key': 'demo'}\n",
    "data = {'content': 'Je visite la ville de Lyon, Annecy et le Mont-Blanc.'}\n",
    "\n",
    "r = requests.post(url + service, params = parameters, json = data)"
   ]
  },
  {
   "cell_type": "code",
   "execution_count": null,
   "metadata": {},
   "outputs": [],
   "source": [
    "print(r.text)"
   ]
  },
  {
   "cell_type": "markdown",
   "metadata": {},
   "source": [
    "### 2.2 Geocoding service"
   ]
  },
  {
   "cell_type": "code",
   "execution_count": null,
   "metadata": {},
   "outputs": [],
   "source": [
    "service = 'geocoding'\n",
    "api_key = 'demo'\n",
    "\n",
    "parameters = {'api_key': api_key, \n",
    "              'toponyms': ['Lyon', 'Grenoble']}\n",
    "\n",
    "r = requests.post(url + service, params = parameters)"
   ]
  },
  {
   "cell_type": "code",
   "execution_count": null,
   "metadata": {},
   "outputs": [],
   "source": [
    "r.text"
   ]
  },
  {
   "cell_type": "markdown",
   "metadata": {},
   "source": [
    "## 3. Going deeper\n",
    "\n",
    "### 3.1 Geoparsing service"
   ]
  },
  {
   "cell_type": "code",
   "execution_count": null,
   "metadata": {},
   "outputs": [],
   "source": [
    "service = 'geoparsing'\n",
    "parameters = {'api_key': 'demo',\n",
    "              'version': 'Standard',\n",
    "              'max_rows': 10, \n",
    "              'alt_names': True,\n",
    "              'sources': ['nominatim', 'geonames'],\n",
    "              'country_code': 'fr'\n",
    "              }\n",
    "              \n",
    "data = {'content': 'Je visite la ville de Lyon, Annecy et le Mont-Blanc.'}\n",
    "\n",
    "r = requests.post(url + service, params = parameters, json = data)"
   ]
  },
  {
   "cell_type": "code",
   "execution_count": null,
   "metadata": {},
   "outputs": [],
   "source": [
    "r.text"
   ]
  },
  {
   "cell_type": "markdown",
   "metadata": {},
   "source": [
    "### 3.2 Geocoding service"
   ]
  },
  {
   "cell_type": "code",
   "execution_count": null,
   "metadata": {},
   "outputs": [],
   "source": [
    "service = 'geocoding'\n",
    "\n",
    "parameters = {'api_key': 'demo', \n",
    "              'toponyms': ['Lyon', 'Grenoble'],\n",
    "              'max_rows': 10, \n",
    "              'alt_names': True,\n",
    "              'sources': ['nominatim', 'geonames'],\n",
    "              'country_code': 'fr',\n",
    "              'bbox': [-5.225, 41.333, 9.55, 51.2]}\n",
    "\n",
    "\n",
    "\n",
    "r = requests.post(url + service, params = parameters)"
   ]
  },
  {
   "cell_type": "code",
   "execution_count": null,
   "metadata": {},
   "outputs": [],
   "source": [
    "r.text"
   ]
  },
  {
   "cell_type": "code",
   "execution_count": null,
   "metadata": {},
   "outputs": [],
   "source": []
  }
 ],
 "metadata": {
  "colab": {
   "collapsed_sections": [],
   "name": "Geoparsing.ipynb",
   "provenance": [],
   "toc_visible": true
  },
  "kernelspec": {
   "display_name": "Python 3.9.13 ('perdido-core-py39')",
   "language": "python",
   "name": "python3"
  },
  "language_info": {
   "codemirror_mode": {
    "name": "ipython",
    "version": 3
   },
   "file_extension": ".py",
   "mimetype": "text/x-python",
   "name": "python",
   "nbconvert_exporter": "python",
   "pygments_lexer": "ipython3",
   "version": "3.9.13"
  },
  "vscode": {
   "interpreter": {
    "hash": "d93b4ef9028a80cade08746b2151d916df9ff4ba6152f13a3163ba32c0c9a362"
   }
  }
 },
 "nbformat": 4,
 "nbformat_minor": 2
}
