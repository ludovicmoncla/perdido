{
 "cells": [
  {
   "cell_type": "markdown",
   "metadata": {
    "colab_type": "text",
    "id": "YrOKr9pwkxJw"
   },
   "source": [
    "# PERDIDO Geoparser\n",
    "\n",
    "\n",
    "[![Open In Colab](https://colab.research.google.com/assets/colab-badge.svg)](http://colab.research.google.com/github/ludovicmoncla/perdido/blob/main/notebooks/demo_Geoparser.ipynb)\n",
    "\n",
    "\n",
    "\n"
   ]
  },
  {
   "cell_type": "markdown",
   "metadata": {},
   "source": [
    "## Installation"
   ]
  },
  {
   "cell_type": "code",
   "execution_count": null,
   "metadata": {},
   "outputs": [],
   "source": [
    "!pip install --upgrade perdido"
   ]
  },
  {
   "cell_type": "markdown",
   "metadata": {},
   "source": [
    "## Import"
   ]
  },
  {
   "cell_type": "code",
   "execution_count": 1,
   "metadata": {},
   "outputs": [],
   "source": [
    "from perdido.geoparser import Geoparser"
   ]
  },
  {
   "cell_type": "markdown",
   "metadata": {},
   "source": [
    "## Quick start"
   ]
  },
  {
   "cell_type": "markdown",
   "metadata": {},
   "source": [
    "### Run geoparser"
   ]
  },
  {
   "cell_type": "code",
   "execution_count": 12,
   "metadata": {},
   "outputs": [],
   "source": [
    "geoparser = Geoparser(version='Standard')\n",
    "doc = geoparser('Je visite la ville de Lyon, Annecy et Chamonix.')"
   ]
  },
  {
   "cell_type": "markdown",
   "metadata": {},
   "source": [
    "* The `version` parameter can take 2 values: *Standard* (default), *Encyclopedie*."
   ]
  },
  {
   "cell_type": "markdown",
   "metadata": {},
   "source": [
    "### Get tokens\n",
    "\n",
    "* Access token attributes:"
   ]
  },
  {
   "cell_type": "code",
   "execution_count": 13,
   "metadata": {},
   "outputs": [
    {
     "name": "stdout",
     "output_type": "stream",
     "text": [
      "token: Je\tlemma: je\tpos: PRO\n",
      "token: visite\tlemma: visiter\tpos: V\n",
      "token: la\tlemma: le\tpos: DET\n",
      "token: ville\tlemma: ville\tpos: N\n",
      "token: de\tlemma: de\tpos: PREP\n",
      "token: Lyon\tlemma: lyon\tpos: NPr\n",
      "token: ,\tlemma: \tpos: PUN\n",
      "token: Annecy\tlemma: annecy\tpos: NPr\n",
      "token: et\tlemma: et\tpos: CONJC\n",
      "token: Chamonix\tlemma: chamonix\tpos: NPr\n",
      "token: .\tlemma: \tpos: SEN\n"
     ]
    }
   ],
   "source": [
    "for token in doc:\n",
    "    print(f'token: {token.text}\\tlemma: {token.lemma}\\tpos: {token.pos}')"
   ]
  },
  {
   "cell_type": "markdown",
   "metadata": {},
   "source": [
    "* Get the IOB format:"
   ]
  },
  {
   "cell_type": "code",
   "execution_count": 35,
   "metadata": {},
   "outputs": [
    {
     "name": "stdout",
     "output_type": "stream",
     "text": [
      "Je je PRO O\n",
      "visite visiter V O\n",
      "la le DET B-LOCATION-1\n",
      "ville ville N I-LOCATION-1\n",
      "de de PREP I-LOCATION-1\n",
      "Lyon lyon NPr I-LOCATION-1 B-LOCATION\n",
      ",  PUN O\n",
      "Annecy annecy NPr B-LOCATION\n",
      "et et CONJC O\n",
      "Chamonix chamonix NPr B-LOCATION\n",
      ".  SEN O\n"
     ]
    }
   ],
   "source": [
    "for token in doc.tokens:\n",
    "    print(token.iob_format())"
   ]
  },
  {
   "cell_type": "markdown",
   "metadata": {},
   "source": [
    "* Get a TSV-IOB format:"
   ]
  },
  {
   "cell_type": "code",
   "execution_count": 14,
   "metadata": {},
   "outputs": [
    {
     "name": "stdout",
     "output_type": "stream",
     "text": [
      "Je 0\n",
      "visite 3\n",
      "la 10\n",
      "ville 13\n",
      "de 19\n",
      "Lyon 22\n",
      ", 26\n",
      "Annecy 28\n",
      "et 35\n",
      "Chamonix 38\n",
      ". 46\n"
     ]
    }
   ],
   "source": [
    "for token in doc.tokens:\n",
    "    print(token.text, token.idx)    # or print(token.tsv_format())"
   ]
  },
  {
   "cell_type": "markdown",
   "metadata": {},
   "source": [
    "### Get the XML-TEI output"
   ]
  },
  {
   "cell_type": "code",
   "execution_count": 6,
   "metadata": {},
   "outputs": [
    {
     "data": {
      "text/plain": [
       "'<TEI><teiheader/><text><body><s><w pos=\"PRO\" lemma=\"je\" subtype=\"PpvIL\" id=\"w0\" idx=\"0\">Je</w><phr type=\"motion\"><motionmedian><w pos=\"V\" lemma=\"visiter\" id=\"w1\" idx=\"3\">visite</w></motionmedian><rs type=\"ene\" id=\"en.0\"><rs type=\"place\" subtype=\"ene\" id=\"en.1\" start=\"10\" end=\"12\" startT=\"2\" endT=\"6\"><term type=\"place\" start=\"10\" end=\"12\" startT=\"2\" endT=\"4\"><w pos=\"DET\" lemma=\"le\" subtype=\"ART\" id=\"w2\" idx=\"10\">la</w><w pos=\"N\" lemma=\"ville\" id=\"w3\" idx=\"13\">ville</w></term><w pos=\"PREP\" lemma=\"de\" id=\"w4\" idx=\"19\">de</w><rs type=\"place\" subtype=\"no\" id=\"en.2\" start=\"22\" end=\"26\" startT=\"5\" endT=\"6\"><name type=\"place\" id=\"en.3\" start=\"22\" end=\"26\" startT=\"5\" endT=\"6\"><w pos=\"NPr\" lemma=\"lyon\" id=\"w5\" idx=\"22\">Lyon</w><location><geo source=\"nominatim\" rend=\"Lyon, Métropole de Lyon, Circonscription départementale du Rhône, Auvergne-Rhône-Alpes, France métropolitaine, France\">4.832011 45.757814</geo></location></name></rs></rs></rs><w pos=\"PUN\" lemma=\"\" id=\"w6\" idx=\"27\">,</w><rs type=\"place\" subtype=\"no\" id=\"en.4\" start=\"29\" end=\"35\" startT=\"7\" endT=\"8\"><name type=\"place\" id=\"en.5\" start=\"29\" end=\"35\" startT=\"7\" endT=\"8\"><w pos=\"NPr\" lemma=\"annecy\" id=\"w7\" idx=\"29\">Annecy</w><location><geo source=\"nominatim\" rend=\"Annecy, Haute-Savoie, Auvergne-Rhône-Alpes, France métropolitaine, France\">6.128885 45.899235</geo></location></name></rs><w pos=\"CONJC\" lemma=\"et\" id=\"w8\" idx=\"36\">et</w><rs type=\"place\" subtype=\"no\" id=\"en.6\" start=\"39\" end=\"47\" startT=\"9\" endT=\"10\"><name type=\"place\" id=\"en.7\" start=\"39\" end=\"47\" startT=\"9\" endT=\"10\"><w pos=\"NPr\" lemma=\"chamonix\" id=\"w9\" idx=\"39\">Chamonix</w><location><geo source=\"nominatim\" rend=\"Chamonix-Mont-Blanc, Bonneville, Haute-Savoie, Auvergne-Rhône-Alpes, France métropolitaine, 74400, France\">6.872751 45.92467</geo></location></name></rs></phr><w pos=\"SEN\" lemma=\"\" id=\"w10\" idx=\"48\">.</w></s></body></text></TEI>'"
      ]
     },
     "execution_count": 6,
     "metadata": {},
     "output_type": "execute_result"
    }
   ],
   "source": [
    "doc.tei"
   ]
  },
  {
   "cell_type": "code",
   "execution_count": null,
   "metadata": {},
   "outputs": [],
   "source": []
  },
  {
   "cell_type": "code",
   "execution_count": null,
   "metadata": {},
   "outputs": [],
   "source": []
  },
  {
   "cell_type": "code",
   "execution_count": 6,
   "metadata": {},
   "outputs": [],
   "source": [
    "import spacy"
   ]
  },
  {
   "cell_type": "code",
   "execution_count": 9,
   "metadata": {},
   "outputs": [],
   "source": [
    "spacy_parser = spacy.load('fr_core_news_sm')"
   ]
  },
  {
   "cell_type": "code",
   "execution_count": 18,
   "metadata": {},
   "outputs": [],
   "source": [
    "doc = spacy_parser('Je visite la ville de Lyon, Annecy et Chamonix.')"
   ]
  },
  {
   "cell_type": "code",
   "execution_count": 32,
   "metadata": {},
   "outputs": [
    {
     "name": "stdout",
     "output_type": "stream",
     "text": [
      "Je O- 0 0\n",
      "visite O- 1 3\n",
      "la O- 2 10\n",
      "ville O- 3 13\n",
      "de O- 4 19\n",
      "Lyon B-LOC 5 22\n",
      ", O- 6 26\n",
      "Annecy B-LOC 7 28\n",
      "et O- 8 35\n",
      "Chamonix B-LOC 9 38\n",
      ". O- 10 46\n"
     ]
    }
   ],
   "source": [
    "for ent in doc:\n",
    "    print(ent.text, ent.ent_iob_ + '-' + ent.ent_type_, ent.i, ent.idx)"
   ]
  },
  {
   "cell_type": "code",
   "execution_count": 31,
   "metadata": {},
   "outputs": [],
   "source": [
    "from perdido.utils.utils import Token, Entity"
   ]
  },
  {
   "cell_type": "code",
   "execution_count": 15,
   "metadata": {},
   "outputs": [],
   "source": [
    "import csv"
   ]
  },
  {
   "cell_type": "code",
   "execution_count": 16,
   "metadata": {},
   "outputs": [],
   "source": [
    "path = '/Users/lmoncla/Documents/Data/Corpus/EDDA/batchs/1/Annotation_manuelle/volume01-1292.tsv'"
   ]
  },
  {
   "cell_type": "code",
   "execution_count": 32,
   "metadata": {},
   "outputs": [
    {
     "name": "stdout",
     "output_type": "stream",
     "text": [
      "0 * ['O']\n",
      "2 AIGREMONT-LE-DUC ['B-NP_Spatial']\n",
      "18 , ['O']\n",
      "20 ( ['O']\n",
      "21 Géogr ['O']\n",
      "26 . ['O']\n",
      "27 ) ['O']\n",
      "29 Ville ['B-ENE_Spatial', 'B-ENE_Spatial', 'B-ENE_Spatial', 'B-NC_Spatial']\n",
      "35 de ['I-ENE_Spatial', 'I-ENE_Spatial', 'I-ENE_Spatial', 'B-Relation']\n",
      "38 France ['I-ENE_Spatial', 'I-ENE_Spatial', 'I-ENE_Spatial', 'B-NP_Spatial']\n",
      "45 en ['I-ENE_Spatial', 'I-ENE_Spatial', 'B-Relation']\n",
      "48 Bourgogne ['I-ENE_Spatial', 'I-ENE_Spatial', 'B-NP_Spatial']\n",
      "57 , ['I-ENE_Spatial']\n",
      "59 Généralité ['I-ENE_Spatial', 'B-ENE_Spatial', 'B-NC_Spatial']\n",
      "70 de ['I-ENE_Spatial', 'I-ENE_Spatial', 'B-Relation']\n",
      "73 Dijon ['I-ENE_Spatial', 'I-ENE_Spatial', 'B-NP_Spatial']\n",
      "78 . ['O']\n"
     ]
    }
   ],
   "source": [
    "with open(path, 'r') as file:\n",
    "    tsv_file = csv.reader(file, delimiter=\"\\t\")\n",
    "\n",
    "    tokens = []\n",
    "    numbers = [] # store tag ids\n",
    "\n",
    "    id = 0\n",
    "    for line in tsv_file:\n",
    "        #print(line)\n",
    "       \n",
    "\n",
    "        if len(line) > 0:\n",
    "            if line[0][0] == '#':\n",
    "                pass\n",
    "            else:\n",
    "                \n",
    "                start_offset = line[1].split('-')[0]\n",
    "                token = line[2]\n",
    "                tag_list = line[3].split('|')\n",
    "                \n",
    "                # ne pas renommer et faire la conversion directement lors de la comparaison\n",
    "                #tags = list(map(lambda x: x.replace('NP\\\\_Spatial', 'LOC'), tags))\n",
    "                #tags = list(map(lambda x: x.replace('ENE\\\\_Spatial', 'LOC'), tags))\n",
    "                #tags = list(map(lambda x: x.replace('NP\\\\_Person', 'PER'), tags))\n",
    "                #tags = list(map(lambda x: x.replace('ENE\\\\_Person', 'PER'), tags))\n",
    "                #tags = list(map(lambda x: x.replace('NP\\\\_Other', 'OTHER'), tags))\n",
    "                #tags = list(map(lambda x: x.replace('ENE\\\\_Other', 'OTHER'), tags))\n",
    "                \n",
    "                # convert the tag list to BIO\n",
    "                tags = []\n",
    "                for t in tag_list:\n",
    "                    if t == '_':\n",
    "                        tag = 'O'\n",
    "                    else:\n",
    "                        t = t.replace('\\\\', '')\n",
    "                        p = t.find(\"[\")\n",
    "                        if p == -1:\n",
    "                            tag = 'B-' + t\n",
    "                        else:\n",
    "                            n = t[p+1:-1]\n",
    "                            if n in numbers:\n",
    "                                tag = 'I-'\n",
    "                            else:\n",
    "                                numbers.append(n)\n",
    "                                tag = 'B-'\n",
    "                            \n",
    "                            tag += t[:p]\n",
    "                    tags.append(tag)\n",
    "\n",
    "                        \n",
    "\n",
    "                #print(line)\n",
    "                print(start_offset, token, tags)\n",
    "\n",
    "                # token\n",
    "                tokens.append(Token(id+1, token, start_offset, '', '', tags))\n",
    "                \n",
    "                start_t = \n",
    "                end_t = \n",
    "                # EN\n",
    "                Entity(text = text, id = id, tokens = tokens, start = start_t, end = end_t, tag = tag, parent = '')\n",
    "\n",
    "              "
   ]
  },
  {
   "cell_type": "code",
   "execution_count": null,
   "metadata": {},
   "outputs": [],
   "source": []
  }
 ],
 "metadata": {
  "colab": {
   "collapsed_sections": [],
   "name": "Geoparsing.ipynb",
   "provenance": [],
   "toc_visible": true
  },
  "kernelspec": {
   "display_name": "Python 3.9.13 ('perdido-lib-py39')",
   "language": "python",
   "name": "python3"
  },
  "language_info": {
   "codemirror_mode": {
    "name": "ipython",
    "version": 3
   },
   "file_extension": ".py",
   "mimetype": "text/x-python",
   "name": "python",
   "nbconvert_exporter": "python",
   "pygments_lexer": "ipython3",
   "version": "3.9.13"
  },
  "vscode": {
   "interpreter": {
    "hash": "4b1f34ceefe072231757807b38f3dcb607cd6c26e84016d64dd06060d820545d"
   }
  }
 },
 "nbformat": 4,
 "nbformat_minor": 2
}
