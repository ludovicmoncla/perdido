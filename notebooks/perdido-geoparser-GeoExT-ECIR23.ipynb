{
 "cells": [
  {
   "attachments": {},
   "cell_type": "markdown",
   "metadata": {
    "colab_type": "text",
    "id": "YrOKr9pwkxJw"
   },
   "source": [
    "# Perdido: Python library for geoparsing and geocoding French texts\n",
    "\n",
    "[![Open In Colab](https://colab.research.google.com/assets/colab-badge.svg)](https://github.com/ludovicmoncla/perdido/blob/main/notebooks/perdido-geoparser-GeoExT-ECIR23.ipynb) [![Binder](https://mybinder.org/badge_logo.svg)](https://mybinder.org/v2/gh/ludovicmoncla/perdido/main?filepath=notebooks/perdido-geoparser-GeoExT-ECIR23.ipynb)\n",
    "\n",
    "This notebook is proposed by [Ludovic Moncla](https://ludovicmoncla.github.io) (Univ Lyon, INSA Lyon, CNRS, UCBL, LIRIS, UMR 5205, F-69621) and [Mauro Gaio](https://lma-umr5142.univ-pau.fr/fr/organisation/membres/cv_-mgaio-fr.html) (Université de Pau et des Pays de l'Adour, CNRS, LMAP, UMR 5142) and was presented at the First International Workshop on Geographic Information Extraction from Texts (GeoExT'23) ([https://geo-ext.github.io](https://geo-ext.github.io)) held at the [ECIR 2023](https://ecir2023.org) conference in Dublin.\n",
    "\n",
    "\n",
    "## Cite this work\n",
    "> Moncla, L. and Gaio, M. (2023). Perdido: Python library for geoparsing and geocoding French texts. In proceedings of the First International Workshop on Geographic Information Extraction from Texts (GeoExT'23), ECIR Conference, Dublin, Ireland.\n",
    "\n",
    "\n",
    "## 1. Overview\n",
    "\n",
    "In this tutorial, we'll learn about a few different things:\n",
    "\n",
    "- Use the `Perdido Geoparser` library for geoparsing French texts (geotagging + geocoding)\n",
    "  - Display geotagging results\n",
    "  - Map geocoding results\n",
    "  - Save the results in different formats (csv, dataframe, ...)\n",
    "  - Illustrate the problem of disambiguation of toponyms\n",
    "- Compare `Perdido` NER results with `spaCy` and `Stanza` (python libraries)\n",
    "    "
   ]
  },
  {
   "attachments": {},
   "cell_type": "markdown",
   "metadata": {},
   "source": [
    "## 2. Setting up the environment\n"
   ]
  },
  {
   "cell_type": "code",
   "execution_count": null,
   "metadata": {},
   "outputs": [],
   "source": [
    "! pip install --upgrade perdido\n",
    "! pip install display-xml==0.1.0"
   ]
  },
  {
   "cell_type": "code",
   "execution_count": null,
   "metadata": {},
   "outputs": [],
   "source": [
    "import warnings\n",
    "warnings.filterwarnings('ignore')"
   ]
  },
  {
   "attachments": {},
   "cell_type": "markdown",
   "metadata": {},
   "source": [
    "## 3. Perdido Geoparser\n",
    "\n",
    "\n",
    "`Perdido` is a Python library for geoparsing French texts. Geoparsing can be divided into two tasks: **geotagging** and **geocoding**. \n",
    "\n",
    "Geotagging is similar to the **named entity recognition** task with a particular focus on spatial information retrieval. In addition to named entities, we are particularly interested in the relationships between these entities such as spatial relationships (distances, topology, orientation, etc.).\n",
    "\n",
    "The role of geocoding (or toponym resolution) is to assign geographic coordinates to place names.\n",
    "`Perdido` relies on a hybrid approach mainly built on rules for the recognition and classification of named entities. The library is available in 2 versions: a standard version and a version specially adapted for encyclopedic articles.\n",
    "\n",
    "In this section we will see how to use `Perdido` for geoparsing.\n"
   ]
  },
  {
   "attachments": {},
   "cell_type": "markdown",
   "metadata": {},
   "source": [
    "### 3.1 Import the library"
   ]
  },
  {
   "cell_type": "code",
   "execution_count": null,
   "metadata": {},
   "outputs": [],
   "source": [
    "from perdido.geoparser import Geoparser"
   ]
  },
  {
   "attachments": {},
   "cell_type": "markdown",
   "metadata": {},
   "source": [
    "### 3.2 Run the geoparser"
   ]
  },
  {
   "cell_type": "code",
   "execution_count": null,
   "metadata": {},
   "outputs": [],
   "source": [
    "text = \"J'aimerais vous proposer un rendez-vous, dans un lieu tenu secret à Lyon, \"\n",
    "text += \"proche de la place Bellecour, de la place des Célestins, \"\n",
    "text += \"au sud de la fontaine des Jacobins et près du pont Bonaparte.\"\n",
    "\n",
    "''' ## english translation: \n",
    "I would like to propose a meeting, in a secret place in Lyon, \n",
    "near the Place Bellecour, the Place des Célestins, \n",
    "south of the Jacobins fountain and near the Bonaparte bridge.\n",
    "'''"
   ]
  },
  {
   "cell_type": "code",
   "execution_count": null,
   "metadata": {},
   "outputs": [],
   "source": [
    "geoparser = Geoparser()\n",
    "doc = geoparser(text)"
   ]
  },
  {
   "attachments": {},
   "cell_type": "markdown",
   "metadata": {},
   "source": [
    "### 3.3 Display the results"
   ]
  },
  {
   "attachments": {},
   "cell_type": "markdown",
   "metadata": {},
   "source": [
    "* Visualize the attributes of the tokens:"
   ]
  },
  {
   "cell_type": "code",
   "execution_count": null,
   "metadata": {},
   "outputs": [],
   "source": [
    "for token in doc:\n",
    "    print(f'{token.text}\\tlemma: {token.lemma}\\tpos: {token.pos}')"
   ]
  },
  {
   "attachments": {},
   "cell_type": "markdown",
   "metadata": {},
   "source": [
    "* IOB format :"
   ]
  },
  {
   "cell_type": "code",
   "execution_count": null,
   "metadata": {},
   "outputs": [],
   "source": [
    "for token in doc:\n",
    "    print(token.iob_format())"
   ]
  },
  {
   "attachments": {},
   "cell_type": "markdown",
   "metadata": {},
   "source": [
    "* IOB-TSV format :"
   ]
  },
  {
   "cell_type": "code",
   "execution_count": null,
   "metadata": {},
   "outputs": [],
   "source": [
    "for token in doc:\n",
    "    print(token.tsv_format())"
   ]
  },
  {
   "attachments": {},
   "cell_type": "markdown",
   "metadata": {},
   "source": [
    "* Display the XML-TEI output. See the reference below for a description of the markup schema:\n",
    "\n",
    "> Moncla, L., & Gaio, M. (2015). A multi-layer markup language for geospatial semantic annotations. Proceedings of the 9th Workshop on Geographic Information Retrieval, 1–10. Paris, France. [https://doi.org/10.1145/2837689.2837700](https://doi.org/10.1145/2837689.2837700)"
   ]
  },
  {
   "cell_type": "code",
   "execution_count": null,
   "metadata": {},
   "outputs": [],
   "source": [
    "print(doc.tei)"
   ]
  },
  {
   "attachments": {},
   "cell_type": "markdown",
   "metadata": {},
   "source": [
    "* Use of the [display_xml](https://github.com/mpacer/display_xml) library to display XML with syntax hilghlighting:"
   ]
  },
  {
   "cell_type": "code",
   "execution_count": null,
   "metadata": {},
   "outputs": [],
   "source": [
    "from display_xml import XML\n",
    "\n",
    "XML(doc.tei, style='lovelace')"
   ]
  },
  {
   "attachments": {},
   "cell_type": "markdown",
   "metadata": {},
   "source": [
    "* Get GeoJSON format:"
   ]
  },
  {
   "cell_type": "code",
   "execution_count": null,
   "metadata": {},
   "outputs": [],
   "source": [
    "doc.geojson"
   ]
  },
  {
   "attachments": {},
   "cell_type": "markdown",
   "metadata": {},
   "source": [
    "* Display the list of named entities:"
   ]
  },
  {
   "cell_type": "code",
   "execution_count": null,
   "metadata": {},
   "outputs": [],
   "source": [
    "for entity in doc.named_entities:\n",
    "    print(f'entity: {entity.text}\\ttag: {entity.tag}')\n",
    "    if entity.tag == 'place':\n",
    "        for t in entity.toponym_candidates:\n",
    "            print(f' latitude: {t.lat}\\tlongitude: {t.lng}\\tsource {t.source}')"
   ]
  },
  {
   "attachments": {},
   "cell_type": "markdown",
   "metadata": {},
   "source": [
    "* Display the list of nested named entities:"
   ]
  },
  {
   "cell_type": "code",
   "execution_count": null,
   "metadata": {},
   "outputs": [],
   "source": [
    "for nested_entity in doc.nested_named_entities:\n",
    "    print(f'entity: {nested_entity.text}\\ttag: {nested_entity.tag}')\n",
    "    if nested_entity.tag == 'place':\n",
    "        for t in nested_entity.toponym_candidates:\n",
    "            print(f' latitude: {t.lat}\\tlongitude: {t.lng}\\tsource {t.source}')\n"
   ]
  },
  {
   "attachments": {},
   "cell_type": "markdown",
   "metadata": {},
   "source": [
    "* Use of the [displaCy](https://spacy.io/usage/visualizers) library to display the Perdido NER results:"
   ]
  },
  {
   "cell_type": "code",
   "execution_count": null,
   "metadata": {},
   "outputs": [],
   "source": [
    "from spacy import displacy\n",
    "\n",
    "displacy.render(doc.to_spacy_doc(), style=\"ent\", jupyter=True)"
   ]
  },
  {
   "cell_type": "code",
   "execution_count": null,
   "metadata": {},
   "outputs": [],
   "source": [
    "displacy.render(doc.to_spacy_doc(), style=\"span\", jupyter=True)"
   ]
  },
  {
   "attachments": {},
   "cell_type": "markdown",
   "metadata": {},
   "source": [
    "* Display of the map generated from the GeoJSON:"
   ]
  },
  {
   "cell_type": "code",
   "execution_count": null,
   "metadata": {},
   "outputs": [],
   "source": [
    "doc.get_folium_map()"
   ]
  },
  {
   "attachments": {},
   "cell_type": "markdown",
   "metadata": {},
   "source": [
    "### 3.4 Export the results"
   ]
  },
  {
   "attachments": {},
   "cell_type": "markdown",
   "metadata": {},
   "source": [
    "* Save results in XML-TEI format:"
   ]
  },
  {
   "cell_type": "code",
   "execution_count": null,
   "metadata": {},
   "outputs": [],
   "source": [
    "doc.to_xml('filename.xml')"
   ]
  },
  {
   "attachments": {},
   "cell_type": "markdown",
   "metadata": {},
   "source": [
    "* Save in GeoJSON :"
   ]
  },
  {
   "cell_type": "code",
   "execution_count": null,
   "metadata": {},
   "outputs": [],
   "source": [
    "doc.to_geojson('filename.geojson')"
   ]
  },
  {
   "attachments": {},
   "cell_type": "markdown",
   "metadata": {},
   "source": [
    "* Save in IOB-TSV :"
   ]
  },
  {
   "cell_type": "code",
   "execution_count": null,
   "metadata": {},
   "outputs": [],
   "source": [
    "doc.to_iob('filename.tsv')"
   ]
  },
  {
   "attachments": {},
   "cell_type": "markdown",
   "metadata": {},
   "source": [
    "* Save in CSV :"
   ]
  },
  {
   "cell_type": "code",
   "execution_count": null,
   "metadata": {},
   "outputs": [],
   "source": [
    "doc.to_csv('filename.csv')"
   ]
  },
  {
   "attachments": {},
   "cell_type": "markdown",
   "metadata": {},
   "source": [
    "### 3.5 Setting\n",
    "\n",
    "The library is available in 2 versions: a `Standard` version and an `Encyclopedie` version specially adapted for encyclopedic articles. \n",
    "The geocoding step is highly configurable, in particular in order to filter the results coming from geographic resources (in order to limit ambiguities)."
   ]
  },
  {
   "attachments": {},
   "cell_type": "markdown",
   "metadata": {},
   "source": [
    "#### 3.5.1 Geotagging settings"
   ]
  },
  {
   "attachments": {},
   "cell_type": "markdown",
   "metadata": {},
   "source": [
    "* Set the version of the annotation rules used for named entity recognition:\n",
    "\n",
    "    * `Standard` (default): rules initially developed for the processing of hiking descriptions\n",
    "    * `Encyclopedia`: rules adapted for encyclopedic article processing"
   ]
  },
  {
   "cell_type": "code",
   "execution_count": null,
   "metadata": {},
   "outputs": [],
   "source": [
    "text = \"ARQUES, (Géog.) petite ville de France, en Normandie, \"\n",
    "text += \"au pays de Caux, sur la petite riviere d'Arques. Long. 18. 50. lat. 49. 54.\"\n",
    "\n",
    "geoparser = Geoparser(version=\"Encyclopedie\")\n",
    "doc = geoparser(text)\n",
    "\n",
    "displacy.render(doc.to_spacy_doc(), style=\"ent\", jupyter=True)\n",
    "displacy.render(doc.to_spacy_doc(), style=\"span\", jupyter=True)"
   ]
  },
  {
   "attachments": {},
   "cell_type": "markdown",
   "metadata": {},
   "source": [
    "The example is the article 'ARQUES', entry number 4084, volume 1 of the Encyclopédie (see [https://artflsrv04.uchicago.edu/philologic4.7/encyclopedie0922/navigate/1/4084](https://artflsrv04.uchicago.edu/philologic4.7/encyclopedie0922/navigate/1/4084))"
   ]
  },
  {
   "attachments": {},
   "cell_type": "markdown",
   "metadata": {},
   "source": [
    "#### 3.5.2 Geocoding setting"
   ]
  },
  {
   "attachments": {},
   "cell_type": "markdown",
   "metadata": {},
   "source": [
    "* For the following examples we will use an excerpt from a hiking description.\n",
    "Here is the English translation:\n",
    "\n",
    "> *Departure from the Cleyat parking lot. Follow the path that goes up in the forest towards the pass of La Ruchère. At the pass, go up to the small Som by the steepest way with the passage of the gully which arrives directly at the small Som: slippery and a little climbing! Arrived at the small Som, at the cross: sight 360. Descent to the pass of Léchaud then pass of Bovinant. Join the habert of Bovinant. Attempt to climb to the grand Som but the first gully is very slippery: turn back. Go down towards the col de la Ruchère by the pas du loup. Delicate passage at the pas du loup. Reach the pass of Ruchère.*\n"
   ]
  },
  {
   "cell_type": "code",
   "execution_count": null,
   "metadata": {},
   "outputs": [],
   "source": [
    "text  = \"Départ du parking du Cleyat. Suivre le chemin qui monte dans la forêt en direction du col de La Ruchère. \"\n",
    "text += \"Au col, monter au petit Som par la voie la plus raide avec le passage du goulot qui arrive directement au petit Som: glissant et un peu d'escalade ! \"\n",
    "text += \"Arrivé au petit Som, à la croix: vue 360. Descente au col de Léchaud puis col de Bovinant. Rejoindre le habert de Bovinant. \"\n",
    "text += \"Tentative de montée au grand Som mais premier goulot très glissant: demi-tour. Descendre en direction du col de la Ruchère par le pas du loup. \"\n",
    "text += \"Passage délicat au pas du loup. Rejoindre le col de la Ruchère.\""
   ]
  },
  {
   "attachments": {},
   "cell_type": "markdown",
   "metadata": {},
   "source": [
    "* We will also use the GPS track to display it on the map and be able to compare it with the geocoded places:"
   ]
  },
  {
   "cell_type": "code",
   "execution_count": null,
   "metadata": {},
   "outputs": [],
   "source": [
    "import shapely.wkt\n",
    "\n",
    "# Create the geometry object from a string\n",
    "gpx_geom = shapely.wkt.loads(\"MULTILINESTRING ((5.798105 45.39974, 5.797635 45.39895, 5.797609 45.397997, 5.797635 45.397279, 5.797348 45.396596, 5.797061 45.396003, 5.796905 45.395266, 5.797192 45.393937, 5.797296 45.392949, 5.797296 45.392033, 5.797218 45.391116, 5.796513 45.390667, 5.796226 45.390218, 5.795939 45.389409, 5.795391 45.388924, 5.79479 45.388619, 5.794843 45.387685, 5.795234 45.387271, 5.7962 45.387038, 5.796591 45.38693, 5.797818 45.386463, 5.798653 45.386481, 5.799671 45.386014, 5.799854 45.385744, 5.800115 45.385475, 5.800376 45.385421, 5.800637 45.385852, 5.800898 45.385798, 5.800924 45.385547, 5.801289 45.385744, 5.801838 45.385439, 5.801916 45.385798, 5.803665 45.386337, 5.804134 45.386122, 5.804239 45.386247, 5.804187 45.386625, 5.804369 45.386876, 5.804787 45.386912, 5.805022 45.386876, 5.805205 45.386966, 5.805126 45.386768, 5.805596 45.386858, 5.805518 45.386768, 5.805674 45.386625, 5.805779 45.386804, 5.805883 45.38702, 5.805674 45.387379, 5.805648 45.387793, 5.805231 45.388062, 5.805805 45.387739, 5.806431 45.387577, 5.806901 45.387182, 5.807736 45.387236, 5.808493 45.387218, 5.808859 45.387218, 5.810216 45.386643, 5.810529 45.386481, 5.811651 45.385834, 5.811886 45.385726, 5.811912 45.385439, 5.812069 45.385349, 5.812199 45.3849, 5.812304 45.384846, 5.812408 45.384559, 5.812434 45.384415, 5.812904 45.384451, 5.813139 45.384379, 5.813583 45.384559, 5.814261 45.384648, 5.81447 45.384361, 5.814548 45.383966, 5.814235 45.383409, 5.813948 45.382726, 5.813844 45.382439, 5.813896 45.382025, 5.81434 45.381882, 5.81434 45.381864, 5.813844 45.382043, 5.813818 45.382474, 5.814601 45.38393, 5.814522 45.384415, 5.814105 45.384271, 5.813531 45.383678, 5.813165 45.383301, 5.812826 45.382798, 5.81233 45.382259, 5.812121 45.382259, 5.811964 45.381953, 5.811521 45.3819, 5.811234 45.382133, 5.810947 45.382133, 5.811208 45.38181, 5.811208 45.381558, 5.810999 45.38145, 5.810581 45.381361, 5.810529 45.381846, 5.810581 45.381935, 5.810425 45.382115, 5.809824 45.382474, 5.809563 45.383139, 5.80925 45.383337, 5.808598 45.38357, 5.807997 45.383534, 5.80758 45.383984, 5.806797 45.383229, 5.806457 45.382942, 5.80617 45.383283, 5.806092 45.383894, 5.805439 45.384415, 5.804474 45.384864, 5.803665 45.385349, 5.803116 45.385672, 5.80236 45.385744, 5.802125 45.385726, 5.801942 45.385888, 5.801916 45.385816, 5.801916 45.385421, 5.801237 45.385726, 5.800898 45.385583, 5.800794 45.38587, 5.800663 45.38587, 5.800272 45.385457, 5.800115 45.385439, 5.799671 45.385978, 5.798706 45.386463, 5.797714 45.386481, 5.796383 45.386984, 5.79526 45.387271, 5.794869 45.387739, 5.794738 45.388583, 5.795443 45.388924, 5.795965 45.389374, 5.796252 45.390236, 5.797244 45.39108, 5.797244 45.392374, 5.797296 45.393218, 5.797113 45.394045, 5.796878 45.395266, 5.797087 45.396147, 5.797583 45.397027, 5.797557 45.397512, 5.797609 45.398932, 5.798184 45.39974, 5.798053 45.399668))\")"
   ]
  },
  {
   "attachments": {},
   "cell_type": "markdown",
   "metadata": {},
   "source": [
    "* Set up the resource(s) used (gazetteer) :\n",
    "\n",
    "    * `nominatim` (default): [OpenStreetMap](https://www.openstreetmap.org)\n",
    "    * `ign` : [GeoPortail](https://www.geoportail.gouv.fr) (France only)\n",
    "    * `wiki_gaz`: [Wikipedia Gazetteer](https://github.com/Living-with-machines/lwm_GIR19_resolving_places)\n",
    "    * `geonames` : [Geonames](http://www.geonames.org)\n",
    "    * `whg`: [World Historical Gazetteer](https://whgazetteer.org)\n",
    "    * `pleiades`: [Pleiades](https://pleiades.stoa.org)"
   ]
  },
  {
   "cell_type": "code",
   "execution_count": null,
   "metadata": {},
   "outputs": [],
   "source": [
    "geoparser = Geoparser(sources=['ign'])\n",
    "doc = geoparser(text)\n",
    "doc.get_folium_map()"
   ]
  },
  {
   "attachments": {},
   "cell_type": "markdown",
   "metadata": {},
   "source": [
    "* The `Perdido` object has a `geometry_layer` attribute which can take the value of a geometry layer to be displayed on the map. In our case, we add the geometry of the GPS track of the hike:"
   ]
  },
  {
   "cell_type": "code",
   "execution_count": null,
   "metadata": {},
   "outputs": [],
   "source": [
    "doc.geometry_layer = gpx_geom\n",
    "doc.get_folium_map()"
   ]
  },
  {
   "attachments": {},
   "cell_type": "markdown",
   "metadata": {},
   "source": [
    "* On refait le même traitement mais avec OpenStreetMap:"
   ]
  },
  {
   "cell_type": "code",
   "execution_count": null,
   "metadata": {},
   "outputs": [],
   "source": [
    "geoparser = Geoparser(sources=['nominatim'])\n",
    "doc = geoparser(text)\n",
    "doc.geometry_layer = gpx_geom\n",
    "doc.get_folium_map()"
   ]
  },
  {
   "attachments": {},
   "cell_type": "markdown",
   "metadata": {},
   "source": [
    "* Paramétrer le mode du geocoding (0: geocoder seulement l'EN, 1 (default): seulement l'ENE et les EN hors ENE, 2 géocoder à la fois les ENE et les EN imbriquées) :"
   ]
  },
  {
   "cell_type": "code",
   "execution_count": null,
   "metadata": {},
   "outputs": [],
   "source": [
    "geoparser = Geoparser(geocoding_mode=0)\n",
    "doc = geoparser(text)\n",
    "doc.geometry_layer = gpx_geom\n",
    "doc.get_folium_map()"
   ]
  },
  {
   "attachments": {},
   "cell_type": "markdown",
   "metadata": {},
   "source": [
    "* Paramétrer le nombre de résultats retournés pour chaque toponyme (par ressource), 1 par défaut :"
   ]
  },
  {
   "cell_type": "code",
   "execution_count": null,
   "metadata": {},
   "outputs": [],
   "source": [
    "geoparser = Geoparser(max_rows=10)\n",
    "doc = geoparser(text)\n",
    "doc.geometry_layer = gpx_geom\n",
    "doc.get_folium_map()"
   ]
  },
  {
   "attachments": {},
   "cell_type": "markdown",
   "metadata": {},
   "source": [
    "* Filtrer les résultats par pays (code pays) :"
   ]
  },
  {
   "cell_type": "code",
   "execution_count": null,
   "metadata": {},
   "outputs": [],
   "source": [
    "geoparser = Geoparser(max_rows=10, country_code = 'fr')\n",
    "doc = geoparser(text)\n",
    "doc.geometry_layer = gpx_geom\n",
    "doc.get_folium_map()"
   ]
  },
  {
   "attachments": {},
   "cell_type": "markdown",
   "metadata": {},
   "source": [
    "* Filtrer les résultats selon une zone géographique (bounding box: `east`,`south`,`west`,`north`) :"
   ]
  },
  {
   "cell_type": "code",
   "execution_count": null,
   "metadata": {},
   "outputs": [],
   "source": [
    "geoparser = Geoparser(max_rows=10, bbox = [5.62216508714297, 45.051683489057, 7.18563279407213, 45.9384576816403])\n",
    "doc = geoparser(text)\n",
    "doc.geometry_layer = gpx_geom\n",
    "doc.get_folium_map()"
   ]
  },
  {
   "attachments": {},
   "cell_type": "markdown",
   "metadata": {},
   "source": [
    "### 3.6 Désambiguïsation\n",
    "\n",
    "La librairie Perdido est toujours en cours de développement et d'amélioration dans le cadre de différents projet de recherche ([ANR CHOCUAS](), [GEODE]()), à l'heure actuelle une seule méthode de désambiguïsation automatique est disponible. Il s'agit d'une méthode de filtrage par clustering.\n"
   ]
  },
  {
   "attachments": {},
   "cell_type": "markdown",
   "metadata": {},
   "source": [
    "#### 3.6.1 Clustering par densité spatiale\n",
    "\n",
    "Le principe est de regrouper les résultats en utilisant un algorithme de clustering spatial (DBSCAN, *density-based spatial clustering of applications with noise*) et de selectionner le cluster qui contient le plus d'entités distinctes.\n",
    "\n",
    "> Moncla, L., Renteria-Agualimpia, W., Nogueras-Iso, J., & Gaio, M. (2014). Geocoding for texts with fine-grain toponyms: an experiment on a geoparsed hiking descriptions corpus. Proceedings of the 22nd ACM SIGSPATIAL International Conference on Advances in Geographic Information Systems, 183–192. Dallas, TX, USA: ACM. [https://doi.org/10.1145/2666310.2666386](https://doi.org/10.1145/2666310.2666386)\n",
    "\n",
    "La librairie Perdido utilise la méthode DBSCAN implémentée dans la librairie [Scikit-Learn](https://scikit-learn.org/stable/modules/generated/sklearn.cluster.DBSCAN.html). \n",
    "\n",
    "Cette stratégie est adaptée pour des textes où les différents lieux cités sont supposés être localisés à proximité les uns des autres (ex: descriptions de randonnées)."
   ]
  },
  {
   "cell_type": "code",
   "execution_count": null,
   "metadata": {},
   "outputs": [],
   "source": [
    "geoparser = Geoparser(max_rows=10)\n",
    "doc = geoparser(text)\n",
    "\n",
    "doc.cluster_disambiguation()\n",
    "\n",
    "doc.geometry_layer = gpx_geom\n",
    "doc.get_folium_map()"
   ]
  },
  {
   "attachments": {},
   "cell_type": "markdown",
   "metadata": {},
   "source": [
    "## 4. Perdido Geocoder\n",
    "\n",
    "En plus de la classe Geoparser, la librairie Perdido propose aussi la classe Geocoder. Cette classe permet de geocoder un ou plusieurs toponymes. Les paramètres sont les mêmes que ceux utilisés avec le geoparser pour configuer l'étape de geocoding :\n",
    "* sources\n",
    "* max_row\n",
    "* country_code\n",
    "* bbox\n",
    "\n",
    "L'objet retourné est de type Perdido comme pour le Geoparser ce qui permet d'avoir accès aux mêmes attributs et méthodes que précédemment."
   ]
  },
  {
   "attachments": {},
   "cell_type": "markdown",
   "metadata": {},
   "source": [
    "### 4.1 Importer la librairie"
   ]
  },
  {
   "cell_type": "code",
   "execution_count": null,
   "metadata": {},
   "outputs": [],
   "source": [
    "from perdido.geocoder import Geocoder"
   ]
  },
  {
   "attachments": {},
   "cell_type": "markdown",
   "metadata": {},
   "source": [
    "### 4.2 Executer le geocoder"
   ]
  },
  {
   "attachments": {},
   "cell_type": "markdown",
   "metadata": {},
   "source": [
    "* Instancier le geocoder :"
   ]
  },
  {
   "cell_type": "code",
   "execution_count": null,
   "metadata": {},
   "outputs": [],
   "source": [
    "geocoder = Geocoder()"
   ]
  },
  {
   "attachments": {},
   "cell_type": "markdown",
   "metadata": {},
   "source": [
    "* Geocoder un nom de lieu :"
   ]
  },
  {
   "cell_type": "code",
   "execution_count": null,
   "metadata": {},
   "outputs": [],
   "source": [
    "doc = geocoder('Lyon')"
   ]
  },
  {
   "attachments": {},
   "cell_type": "markdown",
   "metadata": {},
   "source": [
    "* Geocoder une liste de noms de lieux :"
   ]
  },
  {
   "cell_type": "code",
   "execution_count": null,
   "metadata": {},
   "outputs": [],
   "source": [
    "doc = geocoder(['Lyon', 'Annecy', 'Chamonix'])"
   ]
  },
  {
   "attachments": {},
   "cell_type": "markdown",
   "metadata": {},
   "source": [
    "### 4.3 Visualiser les résultats"
   ]
  },
  {
   "attachments": {},
   "cell_type": "markdown",
   "metadata": {},
   "source": [
    "* Afficher le résultat GeoJSON :"
   ]
  },
  {
   "cell_type": "code",
   "execution_count": null,
   "metadata": {},
   "outputs": [],
   "source": [
    "print(doc.geojson)"
   ]
  },
  {
   "attachments": {},
   "cell_type": "markdown",
   "metadata": {},
   "source": [
    "* Afficher la liste des toponymes candidats :"
   ]
  },
  {
   "cell_type": "code",
   "execution_count": null,
   "metadata": {},
   "outputs": [],
   "source": [
    "for t in doc.toponyms: \n",
    "    print(f'lat: {t.lat}\\tlng: {t.lng}\\tsource {t.source}\\tsourceName {t.source_name}')"
   ]
  },
  {
   "attachments": {},
   "cell_type": "markdown",
   "metadata": {},
   "source": [
    "* Récupérer les toponymes candidats sous la forme d'un geodataframe :"
   ]
  },
  {
   "cell_type": "code",
   "execution_count": null,
   "metadata": {},
   "outputs": [],
   "source": [
    "doc.to_geodataframe()"
   ]
  },
  {
   "attachments": {},
   "cell_type": "markdown",
   "metadata": {},
   "source": [
    "* Afficher la carte des résultats"
   ]
  },
  {
   "cell_type": "code",
   "execution_count": null,
   "metadata": {},
   "outputs": [],
   "source": [
    "doc.get_folium_map()"
   ]
  },
  {
   "attachments": {},
   "cell_type": "markdown",
   "metadata": {},
   "source": [
    "## 5. Les jeux de données\n",
    "\n",
    "\n",
    "La libraire [Perdido](https://github.com/ludovicmoncla/perdido) embarque deux jeux de données : \n",
    " 1. des articles encyclopédiques (volume 7 de l'Encyclopédie de Diderot et d'Alembert (1751-1772)), fournit par l'[ARTFL](https://encyclopedie.uchicago.edu) dans le cadre du projet [GEODE](https://geode-project.github.io) ;\n",
    " 2. des descriptions de randonnées (chaque description est associée à sa trace GPS. Elles proviennent du site [www.visorando.fr](https://www.visorando.com) et ont été collectées dans le cadre du projet [ANR CHOUCAS](http://choucas.ign.fr).\n",
    "\n",
    "### 5.1 Articles encyclopédiques\n",
    "\n",
    "Le jeu de données des articles encyclopédiques est disponible dans la librairie en deux versions, une version \"brute\" (articles fournis par l'ARTFL) au format dataframe et une version déjà annotée par Perdido (format PerdidoCollection). \n",
    "\n",
    "%%Nous allons charger la version brute et voir comment manipuler un dataframe."
   ]
  },
  {
   "attachments": {},
   "cell_type": "markdown",
   "metadata": {},
   "source": [
    "#### 5.1.1 Corpus brut"
   ]
  },
  {
   "cell_type": "code",
   "execution_count": null,
   "metadata": {},
   "outputs": [],
   "source": [
    "from perdido.datasets import load_edda_artfl \n",
    "\n",
    "dataset_artfl = load_edda_artfl()\n",
    "data_artfl = dataset_artfl['data']\n",
    "data_artfl.head()"
   ]
  },
  {
   "cell_type": "code",
   "execution_count": null,
   "metadata": {},
   "outputs": [],
   "source": [
    "data_artfl.loc[data_artfl['head'] == 'FRONTIGNAN'].text.item()"
   ]
  },
  {
   "attachments": {},
   "cell_type": "markdown",
   "metadata": {},
   "source": [
    "#### 5.1.2 Corpus traité par Perdido"
   ]
  },
  {
   "cell_type": "code",
   "execution_count": null,
   "metadata": {},
   "outputs": [],
   "source": [
    "from perdido.datasets import load_edda_perdido\n",
    "\n",
    "dataset_perdido = load_edda_perdido()\n",
    "data_perdido = dataset_perdido['data']\n",
    "df = data_perdido.to_dataframe()\n",
    "df.head()"
   ]
  },
  {
   "cell_type": "code",
   "execution_count": null,
   "metadata": {},
   "outputs": [],
   "source": [
    "doc = data_perdido[0]\n",
    "displacy.render(doc.to_spacy_doc(), style=\"ent\", jupyter=True) \n"
   ]
  },
  {
   "attachments": {},
   "cell_type": "markdown",
   "metadata": {},
   "source": [
    "### 5.2 Descriptions de randonnées (traitées par Perdido)"
   ]
  },
  {
   "cell_type": "code",
   "execution_count": null,
   "metadata": {},
   "outputs": [],
   "source": [
    "from perdido.datasets import load_choucas_perdido\n",
    "\n",
    "dataset_choucas = load_choucas_perdido()\n",
    "data_choucas = dataset_choucas['data']\n",
    "\n",
    "df = data_choucas.to_dataframe()\n",
    "df.head()"
   ]
  },
  {
   "cell_type": "code",
   "execution_count": null,
   "metadata": {},
   "outputs": [],
   "source": [
    "doc = data_choucas[2]"
   ]
  },
  {
   "cell_type": "code",
   "execution_count": null,
   "metadata": {},
   "outputs": [],
   "source": [
    "displacy.render(doc.to_spacy_doc(), style=\"ent\", jupyter=True) "
   ]
  },
  {
   "cell_type": "code",
   "execution_count": null,
   "metadata": {},
   "outputs": [],
   "source": [
    "displacy.render(doc.to_spacy_doc(), style=\"span\", jupyter=True) "
   ]
  },
  {
   "attachments": {},
   "cell_type": "markdown",
   "metadata": {},
   "source": [
    "## 6. Pour aller plus loin\n",
    "\n",
    "1. Tutoriel (en français) Geoparsing : [https://github.com/ludovicmoncla/tutoriel-geoparsing](https://github.com/ludovicmoncla/tutoriel-geoparsing)\n",
    "2. Tutoriel (en français) présenté lors de l'atelier [Librairies Python et Services Web pour la reconnaissance d’entités nommées et la résolution de toponymes](https://anf-tdm-2022.sciencesconf.org/resource/page/id/11) de la formation CNRS [ANF TDM 2022](https://anf-tdm-2022.sciencesconf.org) : [https://gitlab.liris.cnrs.fr/lmoncla/tutoriel-anf-tdm-2022-python-geoparsing](https://gitlab.liris.cnrs.fr/lmoncla/tutoriel-anf-tdm-2022-python-geoparsing)\n",
    "3. Tutoriel (en anglais) utilisé pour le cours [SunoikisisDC](https://sunoikisisdc.github.io) Summer 2022 Course on [Natural Language Processing (NLP) for historical texts](https://github.com/SunoikisisDC/SunoikisisDC-2021-2022/wiki/SunoikisisDC-Summer-2022-Session-9) (Session 9)"
   ]
  }
 ],
 "metadata": {
  "colab": {
   "collapsed_sections": [],
   "name": "Geoparsing.ipynb",
   "provenance": [],
   "toc_visible": true
  },
  "kernelspec": {
   "display_name": "demo-perdido-egc-py39",
   "language": "python",
   "name": "python3"
  },
  "language_info": {
   "codemirror_mode": {
    "name": "ipython",
    "version": 3
   },
   "file_extension": ".py",
   "mimetype": "text/x-python",
   "name": "python",
   "nbconvert_exporter": "python",
   "pygments_lexer": "ipython3",
   "version": "3.9.13"
  },
  "vscode": {
   "interpreter": {
    "hash": "49781ad1735bc90a6de953cd911de16c38c0dc835751caa26878ae3207769e1b"
   }
  }
 },
 "nbformat": 4,
 "nbformat_minor": 2
}
